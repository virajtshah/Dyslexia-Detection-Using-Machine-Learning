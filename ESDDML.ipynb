{
 "cells": [
  {
   "cell_type": "code",
   "execution_count": 1,
   "metadata": {},
   "outputs": [],
   "source": [
    "import numpy as np\n",
    "import pandas as pd\n",
    "import matplotlib.pyplot as plt\n",
    "import seaborn as sns\n",
    "%matplotlib inline"
   ]
  },
  {
   "cell_type": "code",
   "execution_count": 2,
   "metadata": {},
   "outputs": [],
   "source": [
    "pd.set_option('display.max_rows', None)\n",
    "pd.set_option('display.max_columns', None)"
   ]
  },
  {
   "cell_type": "markdown",
   "metadata": {},
   "source": [
    "# Normal Students"
   ]
  },
  {
   "cell_type": "code",
   "execution_count": 3,
   "metadata": {},
   "outputs": [
    {
     "data": {
      "text/html": [
       "<div>\n",
       "<style scoped>\n",
       "    .dataframe tbody tr th:only-of-type {\n",
       "        vertical-align: middle;\n",
       "    }\n",
       "\n",
       "    .dataframe tbody tr th {\n",
       "        vertical-align: top;\n",
       "    }\n",
       "\n",
       "    .dataframe thead th {\n",
       "        text-align: right;\n",
       "    }\n",
       "</style>\n",
       "<table border=\"1\" class=\"dataframe\">\n",
       "  <thead>\n",
       "    <tr style=\"text-align: right;\">\n",
       "      <th></th>\n",
       "      <th>name</th>\n",
       "      <th>password</th>\n",
       "      <th>age</th>\n",
       "      <th>sex</th>\n",
       "      <th>name.1</th>\n",
       "      <th>a1</th>\n",
       "      <th>at1</th>\n",
       "      <th>a2</th>\n",
       "      <th>at2</th>\n",
       "      <th>a3</th>\n",
       "      <th>at3</th>\n",
       "      <th>a4</th>\n",
       "      <th>at4</th>\n",
       "      <th>a5</th>\n",
       "      <th>at5</th>\n",
       "      <th>a6</th>\n",
       "      <th>at6</th>\n",
       "      <th>a7</th>\n",
       "      <th>at7</th>\n",
       "      <th>a8</th>\n",
       "      <th>at8</th>\n",
       "      <th>a9</th>\n",
       "      <th>at9</th>\n",
       "      <th>a10</th>\n",
       "      <th>at10</th>\n",
       "      <th>a11</th>\n",
       "      <th>at11</th>\n",
       "      <th>a12</th>\n",
       "      <th>at12</th>\n",
       "      <th>a13</th>\n",
       "      <th>at13</th>\n",
       "      <th>a14</th>\n",
       "      <th>at14</th>\n",
       "      <th>a15</th>\n",
       "      <th>at15</th>\n",
       "      <th>a16</th>\n",
       "      <th>at16</th>\n",
       "      <th>a17</th>\n",
       "      <th>at17</th>\n",
       "      <th>a18</th>\n",
       "      <th>at18</th>\n",
       "      <th>a19</th>\n",
       "      <th>at19</th>\n",
       "      <th>a20</th>\n",
       "      <th>at20</th>\n",
       "      <th>a21</th>\n",
       "      <th>at21</th>\n",
       "      <th>a22</th>\n",
       "      <th>at22</th>\n",
       "      <th>a23</th>\n",
       "      <th>at23</th>\n",
       "      <th>a24</th>\n",
       "      <th>at24</th>\n",
       "      <th>a25</th>\n",
       "      <th>at25</th>\n",
       "      <th>a26</th>\n",
       "      <th>at26</th>\n",
       "      <th>a27</th>\n",
       "      <th>at27</th>\n",
       "      <th>a28</th>\n",
       "      <th>at28</th>\n",
       "      <th>a29</th>\n",
       "      <th>at29</th>\n",
       "      <th>a30</th>\n",
       "      <th>at30</th>\n",
       "      <th>a31</th>\n",
       "      <th>at31</th>\n",
       "      <th>a32</th>\n",
       "      <th>at32</th>\n",
       "      <th>a33</th>\n",
       "      <th>at33</th>\n",
       "      <th>a34</th>\n",
       "      <th>at34</th>\n",
       "      <th>a35</th>\n",
       "      <th>at35</th>\n",
       "      <th>a36</th>\n",
       "      <th>at36</th>\n",
       "      <th>a37</th>\n",
       "      <th>at37</th>\n",
       "      <th>a38</th>\n",
       "      <th>at38</th>\n",
       "      <th>a39</th>\n",
       "      <th>at39</th>\n",
       "      <th>a40</th>\n",
       "      <th>at40</th>\n",
       "    </tr>\n",
       "  </thead>\n",
       "  <tbody>\n",
       "    <tr>\n",
       "      <th>0</th>\n",
       "      <td>Aarav</td>\n",
       "      <td>1234</td>\n",
       "      <td>11</td>\n",
       "      <td>Male</td>\n",
       "      <td>Aarav</td>\n",
       "      <td>Accepted</td>\n",
       "      <td>15287</td>\n",
       "      <td>plane</td>\n",
       "      <td>4466</td>\n",
       "      <td>Computer room</td>\n",
       "      <td>10851</td>\n",
       "      <td>Atlas</td>\n",
       "      <td>13327</td>\n",
       "      <td>I am having a great day! can you type this for...</td>\n",
       "      <td>28980</td>\n",
       "      <td>Fifth</td>\n",
       "      <td>21627</td>\n",
       "      <td>Breakfast</td>\n",
       "      <td>6566</td>\n",
       "      <td>Docter</td>\n",
       "      <td>6490</td>\n",
       "      <td>Darker</td>\n",
       "      <td>15238</td>\n",
       "      <td>English</td>\n",
       "      <td>14456</td>\n",
       "      <td>15487</td>\n",
       "      <td>16953</td>\n",
       "      <td>9999</td>\n",
       "      <td>5505</td>\n",
       "      <td>31</td>\n",
       "      <td>28866</td>\n",
       "      <td>Summer</td>\n",
       "      <td>5676</td>\n",
       "      <td>34M7M5MM</td>\n",
       "      <td>20485.0</td>\n",
       "      <td>WWMWMWMM</td>\n",
       "      <td>172686.0</td>\n",
       "      <td>7.0</td>\n",
       "      <td>10686.0</td>\n",
       "      <td>8.0</td>\n",
       "      <td>47821.0</td>\n",
       "      <td>12.0</td>\n",
       "      <td>73181.0</td>\n",
       "      <td>2.0</td>\n",
       "      <td>45635.0</td>\n",
       "      <td>3.0</td>\n",
       "      <td>43126.0</td>\n",
       "      <td>14.0</td>\n",
       "      <td>103070.0</td>\n",
       "      <td>3.0</td>\n",
       "      <td>19646.0</td>\n",
       "      <td>Kingdom Animalia</td>\n",
       "      <td>214845.0</td>\n",
       "      <td>Duck</td>\n",
       "      <td>17518.0</td>\n",
       "      <td>Pink</td>\n",
       "      <td>6842.0</td>\n",
       "      <td>Hearts</td>\n",
       "      <td>18944.0</td>\n",
       "      <td>18.0</td>\n",
       "      <td>18026.0</td>\n",
       "      <td>Purple + orange</td>\n",
       "      <td>27827.0</td>\n",
       "      <td>Green</td>\n",
       "      <td>21303.0</td>\n",
       "      <td>R + B</td>\n",
       "      <td>79992.0</td>\n",
       "      <td>Black</td>\n",
       "      <td>13566.0</td>\n",
       "      <td>7.0</td>\n",
       "      <td>83167.0</td>\n",
       "      <td>3.0</td>\n",
       "      <td>21179.0</td>\n",
       "      <td>6.0</td>\n",
       "      <td>37102.0</td>\n",
       "      <td>3.0</td>\n",
       "      <td>21695.0</td>\n",
       "      <td>16.0</td>\n",
       "      <td>7286.0</td>\n",
       "      <td>2-B</td>\n",
       "      <td>8516.0</td>\n",
       "      <td>6.0</td>\n",
       "      <td>26819.0</td>\n",
       "      <td>3.0</td>\n",
       "      <td>2440.0</td>\n",
       "    </tr>\n",
       "    <tr>\n",
       "      <th>1</th>\n",
       "      <td>Addidas</td>\n",
       "      <td>addidas</td>\n",
       "      <td>10</td>\n",
       "      <td>Female</td>\n",
       "      <td>Addidas</td>\n",
       "      <td>Accepted</td>\n",
       "      <td>8680</td>\n",
       "      <td>plain</td>\n",
       "      <td>6540</td>\n",
       "      <td>Computer room</td>\n",
       "      <td>3382</td>\n",
       "      <td>Atlas</td>\n",
       "      <td>9222</td>\n",
       "      <td>I am having a great day! can you type this for...</td>\n",
       "      <td>4059</td>\n",
       "      <td>Fifth</td>\n",
       "      <td>4183</td>\n",
       "      <td>Breakfast</td>\n",
       "      <td>8446</td>\n",
       "      <td>Doctor</td>\n",
       "      <td>7645</td>\n",
       "      <td>Black</td>\n",
       "      <td>7131</td>\n",
       "      <td>English</td>\n",
       "      <td>6126</td>\n",
       "      <td>15487</td>\n",
       "      <td>13255</td>\n",
       "      <td>9999</td>\n",
       "      <td>2613</td>\n",
       "      <td>31</td>\n",
       "      <td>4004</td>\n",
       "      <td>Summer</td>\n",
       "      <td>5380</td>\n",
       "      <td>34M7M5MM</td>\n",
       "      <td>12850.0</td>\n",
       "      <td>WWMWMWMM</td>\n",
       "      <td>21413.0</td>\n",
       "      <td>7.0</td>\n",
       "      <td>7717.0</td>\n",
       "      <td>8.0</td>\n",
       "      <td>36852.0</td>\n",
       "      <td>12.0</td>\n",
       "      <td>11225.0</td>\n",
       "      <td>2.0</td>\n",
       "      <td>10386.0</td>\n",
       "      <td>2.0</td>\n",
       "      <td>38063.0</td>\n",
       "      <td>16.0</td>\n",
       "      <td>57837.0</td>\n",
       "      <td>3.0</td>\n",
       "      <td>10451.0</td>\n",
       "      <td>Kingdom Animalia</td>\n",
       "      <td>7111.0</td>\n",
       "      <td>Duck</td>\n",
       "      <td>3299.0</td>\n",
       "      <td>Pink</td>\n",
       "      <td>10686.0</td>\n",
       "      <td>Hearts</td>\n",
       "      <td>6159.0</td>\n",
       "      <td>18.0</td>\n",
       "      <td>23171.0</td>\n",
       "      <td>Purple + orange</td>\n",
       "      <td>21048.0</td>\n",
       "      <td>Green</td>\n",
       "      <td>11198.0</td>\n",
       "      <td>R + G + B</td>\n",
       "      <td>5372.0</td>\n",
       "      <td>Black</td>\n",
       "      <td>7101.0</td>\n",
       "      <td>9.0</td>\n",
       "      <td>6607.0</td>\n",
       "      <td>3.0</td>\n",
       "      <td>22349.0</td>\n",
       "      <td>6.0</td>\n",
       "      <td>13703.0</td>\n",
       "      <td>3.0</td>\n",
       "      <td>13211.0</td>\n",
       "      <td>16.0</td>\n",
       "      <td>4703.0</td>\n",
       "      <td>2-B</td>\n",
       "      <td>10529.0</td>\n",
       "      <td>6.0</td>\n",
       "      <td>8536.0</td>\n",
       "      <td>3.0</td>\n",
       "      <td>7766.0</td>\n",
       "    </tr>\n",
       "    <tr>\n",
       "      <th>2</th>\n",
       "      <td>Aditya pathak</td>\n",
       "      <td>8108860027</td>\n",
       "      <td>10</td>\n",
       "      <td>Male</td>\n",
       "      <td>Aditya pathak</td>\n",
       "      <td>Acepted</td>\n",
       "      <td>13264</td>\n",
       "      <td>plane</td>\n",
       "      <td>5286</td>\n",
       "      <td>Computer room</td>\n",
       "      <td>7638</td>\n",
       "      <td>Geographic dictionary</td>\n",
       "      <td>11403</td>\n",
       "      <td>I am having a great day! can you type this for...</td>\n",
       "      <td>20152</td>\n",
       "      <td>Five</td>\n",
       "      <td>5607</td>\n",
       "      <td>Breakfast</td>\n",
       "      <td>4476</td>\n",
       "      <td>Dcotor</td>\n",
       "      <td>8191</td>\n",
       "      <td>Darker</td>\n",
       "      <td>9162</td>\n",
       "      <td>English</td>\n",
       "      <td>9758</td>\n",
       "      <td>15487</td>\n",
       "      <td>12925</td>\n",
       "      <td>9999</td>\n",
       "      <td>26269</td>\n",
       "      <td>30</td>\n",
       "      <td>21932</td>\n",
       "      <td>Summer</td>\n",
       "      <td>10616</td>\n",
       "      <td>34M7M5MM</td>\n",
       "      <td>51979.0</td>\n",
       "      <td>WWMWMWMW</td>\n",
       "      <td>25589.0</td>\n",
       "      <td>7.0</td>\n",
       "      <td>14829.0</td>\n",
       "      <td>8.0</td>\n",
       "      <td>28408.0</td>\n",
       "      <td>12.0</td>\n",
       "      <td>31792.0</td>\n",
       "      <td>4.0</td>\n",
       "      <td>75416.0</td>\n",
       "      <td>3.0</td>\n",
       "      <td>26585.0</td>\n",
       "      <td>16.0</td>\n",
       "      <td>62404.0</td>\n",
       "      <td>3.0</td>\n",
       "      <td>91102.0</td>\n",
       "      <td>Kingdom Animalia</td>\n",
       "      <td>18124.0</td>\n",
       "      <td>Duck</td>\n",
       "      <td>17241.0</td>\n",
       "      <td>Pink</td>\n",
       "      <td>13592.0</td>\n",
       "      <td>Hearts</td>\n",
       "      <td>25470.0</td>\n",
       "      <td>18.0</td>\n",
       "      <td>53316.0</td>\n",
       "      <td>Yellow + orange</td>\n",
       "      <td>58480.0</td>\n",
       "      <td>Green</td>\n",
       "      <td>43839.0</td>\n",
       "      <td>R + B</td>\n",
       "      <td>10818.0</td>\n",
       "      <td>Black</td>\n",
       "      <td>14359.0</td>\n",
       "      <td>8.0</td>\n",
       "      <td>42611.0</td>\n",
       "      <td>3.0</td>\n",
       "      <td>51075.0</td>\n",
       "      <td>6.0</td>\n",
       "      <td>19396.0</td>\n",
       "      <td>3.0</td>\n",
       "      <td>9531.0</td>\n",
       "      <td>16.0</td>\n",
       "      <td>1758.0</td>\n",
       "      <td>2-B</td>\n",
       "      <td>7328.0</td>\n",
       "      <td>5.0</td>\n",
       "      <td>16834.0</td>\n",
       "      <td>3.0</td>\n",
       "      <td>14206.0</td>\n",
       "    </tr>\n",
       "    <tr>\n",
       "      <th>3</th>\n",
       "      <td>akhil bharat</td>\n",
       "      <td>akhilli</td>\n",
       "      <td>11</td>\n",
       "      <td>Male</td>\n",
       "      <td>akhil bharat</td>\n",
       "      <td>Accepted</td>\n",
       "      <td>4074</td>\n",
       "      <td>plain</td>\n",
       "      <td>3831</td>\n",
       "      <td>Computer room</td>\n",
       "      <td>3178</td>\n",
       "      <td>Atlas</td>\n",
       "      <td>2815</td>\n",
       "      <td>I am having  greet day! can you type this for ...</td>\n",
       "      <td>3351</td>\n",
       "      <td>Fifth</td>\n",
       "      <td>3790</td>\n",
       "      <td>Breakfast</td>\n",
       "      <td>3492</td>\n",
       "      <td>Doctor</td>\n",
       "      <td>4720</td>\n",
       "      <td>Dark</td>\n",
       "      <td>34960</td>\n",
       "      <td>English</td>\n",
       "      <td>5007</td>\n",
       "      <td>15487</td>\n",
       "      <td>2612</td>\n",
       "      <td>9999</td>\n",
       "      <td>2752</td>\n",
       "      <td>31</td>\n",
       "      <td>3822</td>\n",
       "      <td>Summer</td>\n",
       "      <td>3192</td>\n",
       "      <td>34M7M5MM</td>\n",
       "      <td>2907.0</td>\n",
       "      <td>WWMWMWMW</td>\n",
       "      <td>4091.0</td>\n",
       "      <td>7.0</td>\n",
       "      <td>3645.0</td>\n",
       "      <td>10.0</td>\n",
       "      <td>2832.0</td>\n",
       "      <td>10.0</td>\n",
       "      <td>4550.0</td>\n",
       "      <td>2.0</td>\n",
       "      <td>3405.0</td>\n",
       "      <td>2.0</td>\n",
       "      <td>3387.0</td>\n",
       "      <td>16.0</td>\n",
       "      <td>2931.0</td>\n",
       "      <td>3.0</td>\n",
       "      <td>3047.0</td>\n",
       "      <td>Kingdom Animalia</td>\n",
       "      <td>2755.0</td>\n",
       "      <td>Duck</td>\n",
       "      <td>2713.0</td>\n",
       "      <td>Pink</td>\n",
       "      <td>2577.0</td>\n",
       "      <td>Hearts</td>\n",
       "      <td>5443.0</td>\n",
       "      <td>18.0</td>\n",
       "      <td>3820.0</td>\n",
       "      <td>Purple + orange</td>\n",
       "      <td>2634.0</td>\n",
       "      <td>Pink</td>\n",
       "      <td>2039.0</td>\n",
       "      <td>R + B</td>\n",
       "      <td>2189.0</td>\n",
       "      <td>Black</td>\n",
       "      <td>4903.0</td>\n",
       "      <td>9.0</td>\n",
       "      <td>2349.0</td>\n",
       "      <td>3.0</td>\n",
       "      <td>3384.0</td>\n",
       "      <td>5.0</td>\n",
       "      <td>4759.0</td>\n",
       "      <td>4.0</td>\n",
       "      <td>2623.0</td>\n",
       "      <td>16.0</td>\n",
       "      <td>5316.0</td>\n",
       "      <td>2-B</td>\n",
       "      <td>7771.0</td>\n",
       "      <td>7.0</td>\n",
       "      <td>3983.0</td>\n",
       "      <td>5.0</td>\n",
       "      <td>1670.0</td>\n",
       "    </tr>\n",
       "    <tr>\n",
       "      <th>4</th>\n",
       "      <td>Akshay</td>\n",
       "      <td>9320678007</td>\n",
       "      <td>10</td>\n",
       "      <td>Male</td>\n",
       "      <td>Akshay</td>\n",
       "      <td>Acepted</td>\n",
       "      <td>16563</td>\n",
       "      <td>plain</td>\n",
       "      <td>11398</td>\n",
       "      <td>Computer room</td>\n",
       "      <td>10541</td>\n",
       "      <td>Atlas</td>\n",
       "      <td>10120</td>\n",
       "      <td>I am having a great day! can you type this for...</td>\n",
       "      <td>57052</td>\n",
       "      <td>Fifth</td>\n",
       "      <td>4854</td>\n",
       "      <td>Breakfast</td>\n",
       "      <td>7242</td>\n",
       "      <td>Doctor</td>\n",
       "      <td>4057</td>\n",
       "      <td>Dark</td>\n",
       "      <td>8002</td>\n",
       "      <td>English</td>\n",
       "      <td>7951</td>\n",
       "      <td>15487</td>\n",
       "      <td>9864</td>\n",
       "      <td>9999</td>\n",
       "      <td>9509</td>\n",
       "      <td>31</td>\n",
       "      <td>54182</td>\n",
       "      <td>Summer</td>\n",
       "      <td>6483</td>\n",
       "      <td>34M7M5MM</td>\n",
       "      <td>21579.0</td>\n",
       "      <td>WWMWMWMM</td>\n",
       "      <td>62656.0</td>\n",
       "      <td>7.0</td>\n",
       "      <td>32844.0</td>\n",
       "      <td>8.0</td>\n",
       "      <td>58078.0</td>\n",
       "      <td>12.0</td>\n",
       "      <td>17347.0</td>\n",
       "      <td>2.0</td>\n",
       "      <td>42299.0</td>\n",
       "      <td>3.0</td>\n",
       "      <td>76515.0</td>\n",
       "      <td>16.0</td>\n",
       "      <td>33739.0</td>\n",
       "      <td>3.0</td>\n",
       "      <td>13132.0</td>\n",
       "      <td>Kingdom Animalia</td>\n",
       "      <td>34458.0</td>\n",
       "      <td>Duck</td>\n",
       "      <td>19673.0</td>\n",
       "      <td>Pink</td>\n",
       "      <td>8024.0</td>\n",
       "      <td>Hearts</td>\n",
       "      <td>30710.0</td>\n",
       "      <td>18.0</td>\n",
       "      <td>29260.0</td>\n",
       "      <td>Purple + orange</td>\n",
       "      <td>26385.0</td>\n",
       "      <td>Green</td>\n",
       "      <td>20131.0</td>\n",
       "      <td>G + B</td>\n",
       "      <td>85614.0</td>\n",
       "      <td>Black</td>\n",
       "      <td>18879.0</td>\n",
       "      <td>10.0</td>\n",
       "      <td>115233.0</td>\n",
       "      <td>3.0</td>\n",
       "      <td>19243.0</td>\n",
       "      <td>6.0</td>\n",
       "      <td>30908.0</td>\n",
       "      <td>3.0</td>\n",
       "      <td>12276.0</td>\n",
       "      <td>16.0</td>\n",
       "      <td>12328.0</td>\n",
       "      <td>2-B</td>\n",
       "      <td>5603.0</td>\n",
       "      <td>6.0</td>\n",
       "      <td>19511.0</td>\n",
       "      <td>3.0</td>\n",
       "      <td>10672.0</td>\n",
       "    </tr>\n",
       "  </tbody>\n",
       "</table>\n",
       "</div>"
      ],
      "text/plain": [
       "            name    password  age     sex         name.1        a1    at1  \\\n",
       "0          Aarav        1234   11    Male          Aarav  Accepted  15287   \n",
       "1        Addidas     addidas   10  Female        Addidas  Accepted   8680   \n",
       "2  Aditya pathak  8108860027   10    Male  Aditya pathak   Acepted  13264   \n",
       "3   akhil bharat     akhilli   11    Male   akhil bharat  Accepted   4074   \n",
       "4         Akshay  9320678007   10    Male         Akshay   Acepted  16563   \n",
       "\n",
       "       a2    at2             a3    at3                     a4    at4  \\\n",
       "0   plane   4466  Computer room  10851                 Atlas   13327   \n",
       "1  plain    6540  Computer room   3382                 Atlas    9222   \n",
       "2   plane   5286  Computer room   7638  Geographic dictionary  11403   \n",
       "3  plain    3831  Computer room   3178                 Atlas    2815   \n",
       "4  plain   11398  Computer room  10541                 Atlas   10120   \n",
       "\n",
       "                                                  a5    at5     a6    at6  \\\n",
       "0  I am having a great day! can you type this for...  28980  Fifth  21627   \n",
       "1  I am having a great day! can you type this for...   4059  Fifth   4183   \n",
       "2  I am having a great day! can you type this for...  20152   Five   5607   \n",
       "3  I am having  greet day! can you type this for ...   3351  Fifth   3790   \n",
       "4  I am having a great day! can you type this for...  57052  Fifth   4854   \n",
       "\n",
       "          a7   at7      a8   at8       a9    at9      a10   at10    a11  \\\n",
       "0  Breakfast  6566  Docter  6490  Darker   15238  English  14456  15487   \n",
       "1  Breakfast  8446  Doctor  7645    Black   7131  English   6126  15487   \n",
       "2  Breakfast  4476  Dcotor  8191  Darker    9162  English   9758  15487   \n",
       "3  Breakfast  3492  Doctor  4720     Dark  34960  English   5007  15487   \n",
       "4  Breakfast  7242  Doctor  4057     Dark   8002  English   7951  15487   \n",
       "\n",
       "    at11   a12   at12  a13   at13     a14   at14       a15     at15       a16  \\\n",
       "0  16953  9999   5505   31  28866  Summer   5676  34M7M5MM  20485.0  WWMWMWMM   \n",
       "1  13255  9999   2613   31   4004  Summer   5380  34M7M5MM  12850.0  WWMWMWMM   \n",
       "2  12925  9999  26269   30  21932  Summer  10616  34M7M5MM  51979.0  WWMWMWMW   \n",
       "3   2612  9999   2752   31   3822  Summer   3192  34M7M5MM   2907.0  WWMWMWMW   \n",
       "4   9864  9999   9509   31  54182  Summer   6483  34M7M5MM  21579.0  WWMWMWMM   \n",
       "\n",
       "       at16  a17     at17   a18     at18   a19     at19  a20     at20  a21  \\\n",
       "0  172686.0  7.0  10686.0   8.0  47821.0  12.0  73181.0  2.0  45635.0  3.0   \n",
       "1   21413.0  7.0   7717.0   8.0  36852.0  12.0  11225.0  2.0  10386.0  2.0   \n",
       "2   25589.0  7.0  14829.0   8.0  28408.0  12.0  31792.0  4.0  75416.0  3.0   \n",
       "3    4091.0  7.0   3645.0  10.0   2832.0  10.0   4550.0  2.0   3405.0  2.0   \n",
       "4   62656.0  7.0  32844.0   8.0  58078.0  12.0  17347.0  2.0  42299.0  3.0   \n",
       "\n",
       "      at21   a22      at22  a23     at23               a24      at24   a25  \\\n",
       "0  43126.0  14.0  103070.0  3.0  19646.0  Kingdom Animalia  214845.0  Duck   \n",
       "1  38063.0  16.0   57837.0  3.0  10451.0  Kingdom Animalia    7111.0  Duck   \n",
       "2  26585.0  16.0   62404.0  3.0  91102.0  Kingdom Animalia   18124.0  Duck   \n",
       "3   3387.0  16.0    2931.0  3.0   3047.0  Kingdom Animalia    2755.0  Duck   \n",
       "4  76515.0  16.0   33739.0  3.0  13132.0  Kingdom Animalia   34458.0  Duck   \n",
       "\n",
       "      at25   a26     at26     a27     at27   a28     at28              a29  \\\n",
       "0  17518.0  Pink   6842.0  Hearts  18944.0  18.0  18026.0  Purple + orange   \n",
       "1   3299.0  Pink  10686.0  Hearts   6159.0  18.0  23171.0  Purple + orange   \n",
       "2  17241.0  Pink  13592.0  Hearts  25470.0  18.0  53316.0  Yellow + orange   \n",
       "3   2713.0  Pink   2577.0  Hearts   5443.0  18.0   3820.0  Purple + orange   \n",
       "4  19673.0  Pink   8024.0  Hearts  30710.0  18.0  29260.0  Purple + orange   \n",
       "\n",
       "      at29     a30     at30        a31     at31    a32     at32   a33  \\\n",
       "0  27827.0  Green   21303.0     R + B   79992.0  Black  13566.0   7.0   \n",
       "1  21048.0  Green   11198.0  R + G + B   5372.0  Black   7101.0   9.0   \n",
       "2  58480.0  Green   43839.0     R + B   10818.0  Black  14359.0   8.0   \n",
       "3   2634.0    Pink   2039.0     R + B    2189.0  Black   4903.0   9.0   \n",
       "4  26385.0  Green   20131.0      G + B  85614.0  Black  18879.0  10.0   \n",
       "\n",
       "       at33  a34     at34  a35     at35  a36     at36   a37     at37  a38  \\\n",
       "0   83167.0  3.0  21179.0  6.0  37102.0  3.0  21695.0  16.0   7286.0  2-B   \n",
       "1    6607.0  3.0  22349.0  6.0  13703.0  3.0  13211.0  16.0   4703.0  2-B   \n",
       "2   42611.0  3.0  51075.0  6.0  19396.0  3.0   9531.0  16.0   1758.0  2-B   \n",
       "3    2349.0  3.0   3384.0  5.0   4759.0  4.0   2623.0  16.0   5316.0  2-B   \n",
       "4  115233.0  3.0  19243.0  6.0  30908.0  3.0  12276.0  16.0  12328.0  2-B   \n",
       "\n",
       "      at38  a39     at39  a40     at40  \n",
       "0   8516.0  6.0  26819.0  3.0   2440.0  \n",
       "1  10529.0  6.0   8536.0  3.0   7766.0  \n",
       "2   7328.0  5.0  16834.0  3.0  14206.0  \n",
       "3   7771.0  7.0   3983.0  5.0   1670.0  \n",
       "4   5603.0  6.0  19511.0  3.0  10672.0  "
      ]
     },
     "execution_count": 3,
     "metadata": {},
     "output_type": "execute_result"
    }
   ],
   "source": [
    "df=pd.read_csv('Data.csv')\n",
    "df.head()"
   ]
  },
  {
   "cell_type": "markdown",
   "metadata": {
    "id": "2hr_6Qgedgb4"
   },
   "source": [
    "## Data Processing"
   ]
  },
  {
   "cell_type": "code",
   "execution_count": 4,
   "metadata": {},
   "outputs": [],
   "source": [
    "df.drop(['password'],axis=1,inplace=True)"
   ]
  },
  {
   "cell_type": "code",
   "execution_count": 5,
   "metadata": {},
   "outputs": [],
   "source": [
    "df.drop(['name.1'],axis=1,inplace=True)"
   ]
  },
  {
   "cell_type": "code",
   "execution_count": 6,
   "metadata": {},
   "outputs": [],
   "source": [
    "df['total time']=( df['at1'] + df['at2']+df['at3']+df['at4']+df['at5']+df['at6']+df['at7']+df['at8']+df['at9']+\n",
    "                  df['at10']+df['at11']+df['at12']+df['at13']+df['at14']+df['at15']+df['at16']+\n",
    "                  df['at17']+df['at18']+df['at19']+df['at20']+df['at21']+df['at22']+df['at23']+\n",
    "                  df['at24']+df['at25']+df['at26']+df['at27']+df['at28']+df['at29']+df['at30']+\n",
    "                  df['at31']+df['at32']+df['at33']+df['at34']+df['at35']+df['at36']+df['at37']+\n",
    "                  df['at38']+df['at39']+df['at40'])"
   ]
  },
  {
   "cell_type": "code",
   "execution_count": 7,
   "metadata": {},
   "outputs": [
    {
     "data": {
      "text/html": [
       "<div>\n",
       "<style scoped>\n",
       "    .dataframe tbody tr th:only-of-type {\n",
       "        vertical-align: middle;\n",
       "    }\n",
       "\n",
       "    .dataframe tbody tr th {\n",
       "        vertical-align: top;\n",
       "    }\n",
       "\n",
       "    .dataframe thead th {\n",
       "        text-align: right;\n",
       "    }\n",
       "</style>\n",
       "<table border=\"1\" class=\"dataframe\">\n",
       "  <thead>\n",
       "    <tr style=\"text-align: right;\">\n",
       "      <th></th>\n",
       "      <th>name</th>\n",
       "      <th>age</th>\n",
       "      <th>sex</th>\n",
       "      <th>a1</th>\n",
       "      <th>at1</th>\n",
       "      <th>a2</th>\n",
       "      <th>at2</th>\n",
       "      <th>a3</th>\n",
       "      <th>at3</th>\n",
       "      <th>a4</th>\n",
       "      <th>at4</th>\n",
       "      <th>a5</th>\n",
       "      <th>at5</th>\n",
       "      <th>a6</th>\n",
       "      <th>at6</th>\n",
       "      <th>a7</th>\n",
       "      <th>at7</th>\n",
       "      <th>a8</th>\n",
       "      <th>at8</th>\n",
       "      <th>a9</th>\n",
       "      <th>at9</th>\n",
       "      <th>a10</th>\n",
       "      <th>at10</th>\n",
       "      <th>a11</th>\n",
       "      <th>at11</th>\n",
       "      <th>a12</th>\n",
       "      <th>at12</th>\n",
       "      <th>a13</th>\n",
       "      <th>at13</th>\n",
       "      <th>a14</th>\n",
       "      <th>at14</th>\n",
       "      <th>a15</th>\n",
       "      <th>at15</th>\n",
       "      <th>a16</th>\n",
       "      <th>at16</th>\n",
       "      <th>a17</th>\n",
       "      <th>at17</th>\n",
       "      <th>a18</th>\n",
       "      <th>at18</th>\n",
       "      <th>a19</th>\n",
       "      <th>at19</th>\n",
       "      <th>a20</th>\n",
       "      <th>at20</th>\n",
       "      <th>a21</th>\n",
       "      <th>at21</th>\n",
       "      <th>a22</th>\n",
       "      <th>at22</th>\n",
       "      <th>a23</th>\n",
       "      <th>at23</th>\n",
       "      <th>a24</th>\n",
       "      <th>at24</th>\n",
       "      <th>a25</th>\n",
       "      <th>at25</th>\n",
       "      <th>a26</th>\n",
       "      <th>at26</th>\n",
       "      <th>a27</th>\n",
       "      <th>at27</th>\n",
       "      <th>a28</th>\n",
       "      <th>at28</th>\n",
       "      <th>a29</th>\n",
       "      <th>at29</th>\n",
       "      <th>a30</th>\n",
       "      <th>at30</th>\n",
       "      <th>a31</th>\n",
       "      <th>at31</th>\n",
       "      <th>a32</th>\n",
       "      <th>at32</th>\n",
       "      <th>a33</th>\n",
       "      <th>at33</th>\n",
       "      <th>a34</th>\n",
       "      <th>at34</th>\n",
       "      <th>a35</th>\n",
       "      <th>at35</th>\n",
       "      <th>a36</th>\n",
       "      <th>at36</th>\n",
       "      <th>a37</th>\n",
       "      <th>at37</th>\n",
       "      <th>a38</th>\n",
       "      <th>at38</th>\n",
       "      <th>a39</th>\n",
       "      <th>at39</th>\n",
       "      <th>a40</th>\n",
       "      <th>at40</th>\n",
       "      <th>total time</th>\n",
       "    </tr>\n",
       "  </thead>\n",
       "  <tbody>\n",
       "    <tr>\n",
       "      <th>0</th>\n",
       "      <td>Aarav</td>\n",
       "      <td>11</td>\n",
       "      <td>Male</td>\n",
       "      <td>Accepted</td>\n",
       "      <td>15287</td>\n",
       "      <td>plane</td>\n",
       "      <td>4466</td>\n",
       "      <td>Computer room</td>\n",
       "      <td>10851</td>\n",
       "      <td>Atlas</td>\n",
       "      <td>13327</td>\n",
       "      <td>I am having a great day! can you type this for...</td>\n",
       "      <td>28980</td>\n",
       "      <td>Fifth</td>\n",
       "      <td>21627</td>\n",
       "      <td>Breakfast</td>\n",
       "      <td>6566</td>\n",
       "      <td>Docter</td>\n",
       "      <td>6490</td>\n",
       "      <td>Darker</td>\n",
       "      <td>15238</td>\n",
       "      <td>English</td>\n",
       "      <td>14456</td>\n",
       "      <td>15487</td>\n",
       "      <td>16953</td>\n",
       "      <td>9999</td>\n",
       "      <td>5505</td>\n",
       "      <td>31</td>\n",
       "      <td>28866</td>\n",
       "      <td>Summer</td>\n",
       "      <td>5676</td>\n",
       "      <td>34M7M5MM</td>\n",
       "      <td>20485.0</td>\n",
       "      <td>WWMWMWMM</td>\n",
       "      <td>172686.0</td>\n",
       "      <td>7.0</td>\n",
       "      <td>10686.0</td>\n",
       "      <td>8.0</td>\n",
       "      <td>47821.0</td>\n",
       "      <td>12.0</td>\n",
       "      <td>73181.0</td>\n",
       "      <td>2.0</td>\n",
       "      <td>45635.0</td>\n",
       "      <td>3.0</td>\n",
       "      <td>43126.0</td>\n",
       "      <td>14.0</td>\n",
       "      <td>103070.0</td>\n",
       "      <td>3.0</td>\n",
       "      <td>19646.0</td>\n",
       "      <td>Kingdom Animalia</td>\n",
       "      <td>214845.0</td>\n",
       "      <td>Duck</td>\n",
       "      <td>17518.0</td>\n",
       "      <td>Pink</td>\n",
       "      <td>6842.0</td>\n",
       "      <td>Hearts</td>\n",
       "      <td>18944.0</td>\n",
       "      <td>18.0</td>\n",
       "      <td>18026.0</td>\n",
       "      <td>Purple + orange</td>\n",
       "      <td>27827.0</td>\n",
       "      <td>Green</td>\n",
       "      <td>21303.0</td>\n",
       "      <td>R + B</td>\n",
       "      <td>79992.0</td>\n",
       "      <td>Black</td>\n",
       "      <td>13566.0</td>\n",
       "      <td>7.0</td>\n",
       "      <td>83167.0</td>\n",
       "      <td>3.0</td>\n",
       "      <td>21179.0</td>\n",
       "      <td>6.0</td>\n",
       "      <td>37102.0</td>\n",
       "      <td>3.0</td>\n",
       "      <td>21695.0</td>\n",
       "      <td>16.0</td>\n",
       "      <td>7286.0</td>\n",
       "      <td>2-B</td>\n",
       "      <td>8516.0</td>\n",
       "      <td>6.0</td>\n",
       "      <td>26819.0</td>\n",
       "      <td>3.0</td>\n",
       "      <td>2440.0</td>\n",
       "      <td>1357691.0</td>\n",
       "    </tr>\n",
       "    <tr>\n",
       "      <th>1</th>\n",
       "      <td>Addidas</td>\n",
       "      <td>10</td>\n",
       "      <td>Female</td>\n",
       "      <td>Accepted</td>\n",
       "      <td>8680</td>\n",
       "      <td>plain</td>\n",
       "      <td>6540</td>\n",
       "      <td>Computer room</td>\n",
       "      <td>3382</td>\n",
       "      <td>Atlas</td>\n",
       "      <td>9222</td>\n",
       "      <td>I am having a great day! can you type this for...</td>\n",
       "      <td>4059</td>\n",
       "      <td>Fifth</td>\n",
       "      <td>4183</td>\n",
       "      <td>Breakfast</td>\n",
       "      <td>8446</td>\n",
       "      <td>Doctor</td>\n",
       "      <td>7645</td>\n",
       "      <td>Black</td>\n",
       "      <td>7131</td>\n",
       "      <td>English</td>\n",
       "      <td>6126</td>\n",
       "      <td>15487</td>\n",
       "      <td>13255</td>\n",
       "      <td>9999</td>\n",
       "      <td>2613</td>\n",
       "      <td>31</td>\n",
       "      <td>4004</td>\n",
       "      <td>Summer</td>\n",
       "      <td>5380</td>\n",
       "      <td>34M7M5MM</td>\n",
       "      <td>12850.0</td>\n",
       "      <td>WWMWMWMM</td>\n",
       "      <td>21413.0</td>\n",
       "      <td>7.0</td>\n",
       "      <td>7717.0</td>\n",
       "      <td>8.0</td>\n",
       "      <td>36852.0</td>\n",
       "      <td>12.0</td>\n",
       "      <td>11225.0</td>\n",
       "      <td>2.0</td>\n",
       "      <td>10386.0</td>\n",
       "      <td>2.0</td>\n",
       "      <td>38063.0</td>\n",
       "      <td>16.0</td>\n",
       "      <td>57837.0</td>\n",
       "      <td>3.0</td>\n",
       "      <td>10451.0</td>\n",
       "      <td>Kingdom Animalia</td>\n",
       "      <td>7111.0</td>\n",
       "      <td>Duck</td>\n",
       "      <td>3299.0</td>\n",
       "      <td>Pink</td>\n",
       "      <td>10686.0</td>\n",
       "      <td>Hearts</td>\n",
       "      <td>6159.0</td>\n",
       "      <td>18.0</td>\n",
       "      <td>23171.0</td>\n",
       "      <td>Purple + orange</td>\n",
       "      <td>21048.0</td>\n",
       "      <td>Green</td>\n",
       "      <td>11198.0</td>\n",
       "      <td>R + G + B</td>\n",
       "      <td>5372.0</td>\n",
       "      <td>Black</td>\n",
       "      <td>7101.0</td>\n",
       "      <td>9.0</td>\n",
       "      <td>6607.0</td>\n",
       "      <td>3.0</td>\n",
       "      <td>22349.0</td>\n",
       "      <td>6.0</td>\n",
       "      <td>13703.0</td>\n",
       "      <td>3.0</td>\n",
       "      <td>13211.0</td>\n",
       "      <td>16.0</td>\n",
       "      <td>4703.0</td>\n",
       "      <td>2-B</td>\n",
       "      <td>10529.0</td>\n",
       "      <td>6.0</td>\n",
       "      <td>8536.0</td>\n",
       "      <td>3.0</td>\n",
       "      <td>7766.0</td>\n",
       "      <td>480009.0</td>\n",
       "    </tr>\n",
       "    <tr>\n",
       "      <th>2</th>\n",
       "      <td>Aditya pathak</td>\n",
       "      <td>10</td>\n",
       "      <td>Male</td>\n",
       "      <td>Acepted</td>\n",
       "      <td>13264</td>\n",
       "      <td>plane</td>\n",
       "      <td>5286</td>\n",
       "      <td>Computer room</td>\n",
       "      <td>7638</td>\n",
       "      <td>Geographic dictionary</td>\n",
       "      <td>11403</td>\n",
       "      <td>I am having a great day! can you type this for...</td>\n",
       "      <td>20152</td>\n",
       "      <td>Five</td>\n",
       "      <td>5607</td>\n",
       "      <td>Breakfast</td>\n",
       "      <td>4476</td>\n",
       "      <td>Dcotor</td>\n",
       "      <td>8191</td>\n",
       "      <td>Darker</td>\n",
       "      <td>9162</td>\n",
       "      <td>English</td>\n",
       "      <td>9758</td>\n",
       "      <td>15487</td>\n",
       "      <td>12925</td>\n",
       "      <td>9999</td>\n",
       "      <td>26269</td>\n",
       "      <td>30</td>\n",
       "      <td>21932</td>\n",
       "      <td>Summer</td>\n",
       "      <td>10616</td>\n",
       "      <td>34M7M5MM</td>\n",
       "      <td>51979.0</td>\n",
       "      <td>WWMWMWMW</td>\n",
       "      <td>25589.0</td>\n",
       "      <td>7.0</td>\n",
       "      <td>14829.0</td>\n",
       "      <td>8.0</td>\n",
       "      <td>28408.0</td>\n",
       "      <td>12.0</td>\n",
       "      <td>31792.0</td>\n",
       "      <td>4.0</td>\n",
       "      <td>75416.0</td>\n",
       "      <td>3.0</td>\n",
       "      <td>26585.0</td>\n",
       "      <td>16.0</td>\n",
       "      <td>62404.0</td>\n",
       "      <td>3.0</td>\n",
       "      <td>91102.0</td>\n",
       "      <td>Kingdom Animalia</td>\n",
       "      <td>18124.0</td>\n",
       "      <td>Duck</td>\n",
       "      <td>17241.0</td>\n",
       "      <td>Pink</td>\n",
       "      <td>13592.0</td>\n",
       "      <td>Hearts</td>\n",
       "      <td>25470.0</td>\n",
       "      <td>18.0</td>\n",
       "      <td>53316.0</td>\n",
       "      <td>Yellow + orange</td>\n",
       "      <td>58480.0</td>\n",
       "      <td>Green</td>\n",
       "      <td>43839.0</td>\n",
       "      <td>R + B</td>\n",
       "      <td>10818.0</td>\n",
       "      <td>Black</td>\n",
       "      <td>14359.0</td>\n",
       "      <td>8.0</td>\n",
       "      <td>42611.0</td>\n",
       "      <td>3.0</td>\n",
       "      <td>51075.0</td>\n",
       "      <td>6.0</td>\n",
       "      <td>19396.0</td>\n",
       "      <td>3.0</td>\n",
       "      <td>9531.0</td>\n",
       "      <td>16.0</td>\n",
       "      <td>1758.0</td>\n",
       "      <td>2-B</td>\n",
       "      <td>7328.0</td>\n",
       "      <td>5.0</td>\n",
       "      <td>16834.0</td>\n",
       "      <td>3.0</td>\n",
       "      <td>14206.0</td>\n",
       "      <td>992761.0</td>\n",
       "    </tr>\n",
       "    <tr>\n",
       "      <th>3</th>\n",
       "      <td>akhil bharat</td>\n",
       "      <td>11</td>\n",
       "      <td>Male</td>\n",
       "      <td>Accepted</td>\n",
       "      <td>4074</td>\n",
       "      <td>plain</td>\n",
       "      <td>3831</td>\n",
       "      <td>Computer room</td>\n",
       "      <td>3178</td>\n",
       "      <td>Atlas</td>\n",
       "      <td>2815</td>\n",
       "      <td>I am having  greet day! can you type this for ...</td>\n",
       "      <td>3351</td>\n",
       "      <td>Fifth</td>\n",
       "      <td>3790</td>\n",
       "      <td>Breakfast</td>\n",
       "      <td>3492</td>\n",
       "      <td>Doctor</td>\n",
       "      <td>4720</td>\n",
       "      <td>Dark</td>\n",
       "      <td>34960</td>\n",
       "      <td>English</td>\n",
       "      <td>5007</td>\n",
       "      <td>15487</td>\n",
       "      <td>2612</td>\n",
       "      <td>9999</td>\n",
       "      <td>2752</td>\n",
       "      <td>31</td>\n",
       "      <td>3822</td>\n",
       "      <td>Summer</td>\n",
       "      <td>3192</td>\n",
       "      <td>34M7M5MM</td>\n",
       "      <td>2907.0</td>\n",
       "      <td>WWMWMWMW</td>\n",
       "      <td>4091.0</td>\n",
       "      <td>7.0</td>\n",
       "      <td>3645.0</td>\n",
       "      <td>10.0</td>\n",
       "      <td>2832.0</td>\n",
       "      <td>10.0</td>\n",
       "      <td>4550.0</td>\n",
       "      <td>2.0</td>\n",
       "      <td>3405.0</td>\n",
       "      <td>2.0</td>\n",
       "      <td>3387.0</td>\n",
       "      <td>16.0</td>\n",
       "      <td>2931.0</td>\n",
       "      <td>3.0</td>\n",
       "      <td>3047.0</td>\n",
       "      <td>Kingdom Animalia</td>\n",
       "      <td>2755.0</td>\n",
       "      <td>Duck</td>\n",
       "      <td>2713.0</td>\n",
       "      <td>Pink</td>\n",
       "      <td>2577.0</td>\n",
       "      <td>Hearts</td>\n",
       "      <td>5443.0</td>\n",
       "      <td>18.0</td>\n",
       "      <td>3820.0</td>\n",
       "      <td>Purple + orange</td>\n",
       "      <td>2634.0</td>\n",
       "      <td>Pink</td>\n",
       "      <td>2039.0</td>\n",
       "      <td>R + B</td>\n",
       "      <td>2189.0</td>\n",
       "      <td>Black</td>\n",
       "      <td>4903.0</td>\n",
       "      <td>9.0</td>\n",
       "      <td>2349.0</td>\n",
       "      <td>3.0</td>\n",
       "      <td>3384.0</td>\n",
       "      <td>5.0</td>\n",
       "      <td>4759.0</td>\n",
       "      <td>4.0</td>\n",
       "      <td>2623.0</td>\n",
       "      <td>16.0</td>\n",
       "      <td>5316.0</td>\n",
       "      <td>2-B</td>\n",
       "      <td>7771.0</td>\n",
       "      <td>7.0</td>\n",
       "      <td>3983.0</td>\n",
       "      <td>5.0</td>\n",
       "      <td>1670.0</td>\n",
       "      <td>173319.0</td>\n",
       "    </tr>\n",
       "  </tbody>\n",
       "</table>\n",
       "</div>"
      ],
      "text/plain": [
       "            name  age     sex        a1    at1      a2   at2             a3  \\\n",
       "0          Aarav   11    Male  Accepted  15287   plane  4466  Computer room   \n",
       "1        Addidas   10  Female  Accepted   8680  plain   6540  Computer room   \n",
       "2  Aditya pathak   10    Male   Acepted  13264   plane  5286  Computer room   \n",
       "3   akhil bharat   11    Male  Accepted   4074  plain   3831  Computer room   \n",
       "\n",
       "     at3                     a4    at4  \\\n",
       "0  10851                 Atlas   13327   \n",
       "1   3382                 Atlas    9222   \n",
       "2   7638  Geographic dictionary  11403   \n",
       "3   3178                 Atlas    2815   \n",
       "\n",
       "                                                  a5    at5     a6    at6  \\\n",
       "0  I am having a great day! can you type this for...  28980  Fifth  21627   \n",
       "1  I am having a great day! can you type this for...   4059  Fifth   4183   \n",
       "2  I am having a great day! can you type this for...  20152   Five   5607   \n",
       "3  I am having  greet day! can you type this for ...   3351  Fifth   3790   \n",
       "\n",
       "          a7   at7      a8   at8       a9    at9      a10   at10    a11  \\\n",
       "0  Breakfast  6566  Docter  6490  Darker   15238  English  14456  15487   \n",
       "1  Breakfast  8446  Doctor  7645    Black   7131  English   6126  15487   \n",
       "2  Breakfast  4476  Dcotor  8191  Darker    9162  English   9758  15487   \n",
       "3  Breakfast  3492  Doctor  4720     Dark  34960  English   5007  15487   \n",
       "\n",
       "    at11   a12   at12  a13   at13     a14   at14       a15     at15       a16  \\\n",
       "0  16953  9999   5505   31  28866  Summer   5676  34M7M5MM  20485.0  WWMWMWMM   \n",
       "1  13255  9999   2613   31   4004  Summer   5380  34M7M5MM  12850.0  WWMWMWMM   \n",
       "2  12925  9999  26269   30  21932  Summer  10616  34M7M5MM  51979.0  WWMWMWMW   \n",
       "3   2612  9999   2752   31   3822  Summer   3192  34M7M5MM   2907.0  WWMWMWMW   \n",
       "\n",
       "       at16  a17     at17   a18     at18   a19     at19  a20     at20  a21  \\\n",
       "0  172686.0  7.0  10686.0   8.0  47821.0  12.0  73181.0  2.0  45635.0  3.0   \n",
       "1   21413.0  7.0   7717.0   8.0  36852.0  12.0  11225.0  2.0  10386.0  2.0   \n",
       "2   25589.0  7.0  14829.0   8.0  28408.0  12.0  31792.0  4.0  75416.0  3.0   \n",
       "3    4091.0  7.0   3645.0  10.0   2832.0  10.0   4550.0  2.0   3405.0  2.0   \n",
       "\n",
       "      at21   a22      at22  a23     at23               a24      at24   a25  \\\n",
       "0  43126.0  14.0  103070.0  3.0  19646.0  Kingdom Animalia  214845.0  Duck   \n",
       "1  38063.0  16.0   57837.0  3.0  10451.0  Kingdom Animalia    7111.0  Duck   \n",
       "2  26585.0  16.0   62404.0  3.0  91102.0  Kingdom Animalia   18124.0  Duck   \n",
       "3   3387.0  16.0    2931.0  3.0   3047.0  Kingdom Animalia    2755.0  Duck   \n",
       "\n",
       "      at25   a26     at26     a27     at27   a28     at28              a29  \\\n",
       "0  17518.0  Pink   6842.0  Hearts  18944.0  18.0  18026.0  Purple + orange   \n",
       "1   3299.0  Pink  10686.0  Hearts   6159.0  18.0  23171.0  Purple + orange   \n",
       "2  17241.0  Pink  13592.0  Hearts  25470.0  18.0  53316.0  Yellow + orange   \n",
       "3   2713.0  Pink   2577.0  Hearts   5443.0  18.0   3820.0  Purple + orange   \n",
       "\n",
       "      at29     a30     at30        a31     at31    a32     at32  a33     at33  \\\n",
       "0  27827.0  Green   21303.0     R + B   79992.0  Black  13566.0  7.0  83167.0   \n",
       "1  21048.0  Green   11198.0  R + G + B   5372.0  Black   7101.0  9.0   6607.0   \n",
       "2  58480.0  Green   43839.0     R + B   10818.0  Black  14359.0  8.0  42611.0   \n",
       "3   2634.0    Pink   2039.0     R + B    2189.0  Black   4903.0  9.0   2349.0   \n",
       "\n",
       "   a34     at34  a35     at35  a36     at36   a37    at37  a38     at38  a39  \\\n",
       "0  3.0  21179.0  6.0  37102.0  3.0  21695.0  16.0  7286.0  2-B   8516.0  6.0   \n",
       "1  3.0  22349.0  6.0  13703.0  3.0  13211.0  16.0  4703.0  2-B  10529.0  6.0   \n",
       "2  3.0  51075.0  6.0  19396.0  3.0   9531.0  16.0  1758.0  2-B   7328.0  5.0   \n",
       "3  3.0   3384.0  5.0   4759.0  4.0   2623.0  16.0  5316.0  2-B   7771.0  7.0   \n",
       "\n",
       "      at39  a40     at40  total time  \n",
       "0  26819.0  3.0   2440.0   1357691.0  \n",
       "1   8536.0  3.0   7766.0    480009.0  \n",
       "2  16834.0  3.0  14206.0    992761.0  \n",
       "3   3983.0  5.0   1670.0    173319.0  "
      ]
     },
     "execution_count": 7,
     "metadata": {},
     "output_type": "execute_result"
    }
   ],
   "source": [
    "df.head(4)"
   ]
  },
  {
   "cell_type": "code",
   "execution_count": 8,
   "metadata": {
    "colab": {
     "base_uri": "https://localhost:8080/",
     "height": 304
    },
    "id": "mOePNHUvitSA",
    "outputId": "ab02b4f1-d51b-4944-f5a7-f9980860cfae"
   },
   "outputs": [
    {
     "data": {
      "text/html": [
       "<div>\n",
       "<style scoped>\n",
       "    .dataframe tbody tr th:only-of-type {\n",
       "        vertical-align: middle;\n",
       "    }\n",
       "\n",
       "    .dataframe tbody tr th {\n",
       "        vertical-align: top;\n",
       "    }\n",
       "\n",
       "    .dataframe thead th {\n",
       "        text-align: right;\n",
       "    }\n",
       "</style>\n",
       "<table border=\"1\" class=\"dataframe\">\n",
       "  <thead>\n",
       "    <tr style=\"text-align: right;\">\n",
       "      <th></th>\n",
       "      <th>age</th>\n",
       "      <th>at1</th>\n",
       "      <th>at2</th>\n",
       "      <th>at3</th>\n",
       "      <th>at4</th>\n",
       "      <th>at5</th>\n",
       "      <th>at6</th>\n",
       "      <th>at7</th>\n",
       "      <th>at8</th>\n",
       "      <th>at9</th>\n",
       "      <th>at10</th>\n",
       "      <th>a11</th>\n",
       "      <th>at11</th>\n",
       "      <th>a12</th>\n",
       "      <th>at12</th>\n",
       "      <th>a13</th>\n",
       "      <th>at13</th>\n",
       "      <th>at14</th>\n",
       "      <th>at15</th>\n",
       "      <th>at16</th>\n",
       "      <th>a17</th>\n",
       "      <th>at17</th>\n",
       "      <th>a18</th>\n",
       "      <th>at18</th>\n",
       "      <th>a19</th>\n",
       "      <th>at19</th>\n",
       "      <th>a20</th>\n",
       "      <th>at20</th>\n",
       "      <th>a21</th>\n",
       "      <th>at21</th>\n",
       "      <th>a22</th>\n",
       "      <th>at22</th>\n",
       "      <th>a23</th>\n",
       "      <th>at23</th>\n",
       "      <th>at24</th>\n",
       "      <th>at25</th>\n",
       "      <th>at26</th>\n",
       "      <th>at27</th>\n",
       "      <th>a28</th>\n",
       "      <th>at28</th>\n",
       "      <th>at29</th>\n",
       "      <th>at30</th>\n",
       "      <th>at31</th>\n",
       "      <th>at32</th>\n",
       "      <th>a33</th>\n",
       "      <th>at33</th>\n",
       "      <th>a34</th>\n",
       "      <th>at34</th>\n",
       "      <th>a35</th>\n",
       "      <th>at35</th>\n",
       "      <th>a36</th>\n",
       "      <th>at36</th>\n",
       "      <th>a37</th>\n",
       "      <th>at37</th>\n",
       "      <th>at38</th>\n",
       "      <th>a39</th>\n",
       "      <th>at39</th>\n",
       "      <th>a40</th>\n",
       "      <th>at40</th>\n",
       "      <th>total time</th>\n",
       "    </tr>\n",
       "  </thead>\n",
       "  <tbody>\n",
       "    <tr>\n",
       "      <th>count</th>\n",
       "      <td>0.05300</td>\n",
       "      <td>0.053000</td>\n",
       "      <td>0.053000</td>\n",
       "      <td>0.053000</td>\n",
       "      <td>0.053000</td>\n",
       "      <td>0.053000</td>\n",
       "      <td>0.053000</td>\n",
       "      <td>0.053000</td>\n",
       "      <td>0.053000</td>\n",
       "      <td>0.05300</td>\n",
       "      <td>0.053000</td>\n",
       "      <td>0.053000</td>\n",
       "      <td>0.053000</td>\n",
       "      <td>0.053000</td>\n",
       "      <td>0.053000</td>\n",
       "      <td>0.053000</td>\n",
       "      <td>0.053000</td>\n",
       "      <td>0.053000</td>\n",
       "      <td>0.051000</td>\n",
       "      <td>0.051000</td>\n",
       "      <td>0.0510</td>\n",
       "      <td>0.051000</td>\n",
       "      <td>0.051000</td>\n",
       "      <td>0.051000</td>\n",
       "      <td>0.051000</td>\n",
       "      <td>0.051000</td>\n",
       "      <td>0.049000</td>\n",
       "      <td>0.049000</td>\n",
       "      <td>0.048000</td>\n",
       "      <td>0.048000</td>\n",
       "      <td>0.048000</td>\n",
       "      <td>0.048000</td>\n",
       "      <td>0.047000</td>\n",
       "      <td>0.047000</td>\n",
       "      <td>0.047000</td>\n",
       "      <td>0.046000</td>\n",
       "      <td>0.046000</td>\n",
       "      <td>0.046000</td>\n",
       "      <td>0.046000</td>\n",
       "      <td>0.046000</td>\n",
       "      <td>0.046000</td>\n",
       "      <td>0.046000</td>\n",
       "      <td>0.046000</td>\n",
       "      <td>0.045000</td>\n",
       "      <td>0.045000</td>\n",
       "      <td>0.045000</td>\n",
       "      <td>0.045000</td>\n",
       "      <td>0.045000</td>\n",
       "      <td>0.045000</td>\n",
       "      <td>0.045000</td>\n",
       "      <td>0.045000</td>\n",
       "      <td>0.045000</td>\n",
       "      <td>0.045000</td>\n",
       "      <td>0.045000</td>\n",
       "      <td>0.045000</td>\n",
       "      <td>0.045000</td>\n",
       "      <td>0.045000</td>\n",
       "      <td>0.045000</td>\n",
       "      <td>0.045000</td>\n",
       "      <td>0.045000</td>\n",
       "    </tr>\n",
       "    <tr>\n",
       "      <th>mean</th>\n",
       "      <td>0.01017</td>\n",
       "      <td>16.968585</td>\n",
       "      <td>8.597396</td>\n",
       "      <td>9.470170</td>\n",
       "      <td>10.104358</td>\n",
       "      <td>19.537491</td>\n",
       "      <td>7.094811</td>\n",
       "      <td>8.518038</td>\n",
       "      <td>7.349585</td>\n",
       "      <td>8.82366</td>\n",
       "      <td>10.403943</td>\n",
       "      <td>15.507208</td>\n",
       "      <td>10.499075</td>\n",
       "      <td>9.747453</td>\n",
       "      <td>10.284698</td>\n",
       "      <td>0.030925</td>\n",
       "      <td>34.707170</td>\n",
       "      <td>7.502264</td>\n",
       "      <td>14.612196</td>\n",
       "      <td>28.935784</td>\n",
       "      <td>0.0070</td>\n",
       "      <td>8.819902</td>\n",
       "      <td>0.009196</td>\n",
       "      <td>21.736941</td>\n",
       "      <td>0.011275</td>\n",
       "      <td>11.345431</td>\n",
       "      <td>0.002490</td>\n",
       "      <td>16.630857</td>\n",
       "      <td>0.002563</td>\n",
       "      <td>19.210604</td>\n",
       "      <td>0.014750</td>\n",
       "      <td>22.487437</td>\n",
       "      <td>0.003128</td>\n",
       "      <td>11.898894</td>\n",
       "      <td>17.843340</td>\n",
       "      <td>9.223391</td>\n",
       "      <td>10.951739</td>\n",
       "      <td>13.370543</td>\n",
       "      <td>0.018174</td>\n",
       "      <td>16.825565</td>\n",
       "      <td>14.751565</td>\n",
       "      <td>14.334435</td>\n",
       "      <td>17.075565</td>\n",
       "      <td>8.976267</td>\n",
       "      <td>0.008622</td>\n",
       "      <td>19.060022</td>\n",
       "      <td>0.002667</td>\n",
       "      <td>14.940067</td>\n",
       "      <td>0.006067</td>\n",
       "      <td>41.877356</td>\n",
       "      <td>0.002844</td>\n",
       "      <td>11.883778</td>\n",
       "      <td>0.015044</td>\n",
       "      <td>6.936111</td>\n",
       "      <td>9.797978</td>\n",
       "      <td>0.005867</td>\n",
       "      <td>10.043822</td>\n",
       "      <td>0.003089</td>\n",
       "      <td>10.471889</td>\n",
       "      <td>594.029756</td>\n",
       "    </tr>\n",
       "    <tr>\n",
       "      <th>std</th>\n",
       "      <td>0.00149</td>\n",
       "      <td>26.884521</td>\n",
       "      <td>12.834328</td>\n",
       "      <td>15.709553</td>\n",
       "      <td>17.978789</td>\n",
       "      <td>22.240063</td>\n",
       "      <td>6.992573</td>\n",
       "      <td>11.961327</td>\n",
       "      <td>8.087258</td>\n",
       "      <td>10.00711</td>\n",
       "      <td>14.039055</td>\n",
       "      <td>0.084037</td>\n",
       "      <td>9.006739</td>\n",
       "      <td>1.354423</td>\n",
       "      <td>15.456524</td>\n",
       "      <td>0.000583</td>\n",
       "      <td>64.224742</td>\n",
       "      <td>8.592490</td>\n",
       "      <td>20.985554</td>\n",
       "      <td>39.018142</td>\n",
       "      <td>0.0002</td>\n",
       "      <td>10.973050</td>\n",
       "      <td>0.001249</td>\n",
       "      <td>29.839400</td>\n",
       "      <td>0.000918</td>\n",
       "      <td>11.787910</td>\n",
       "      <td>0.000767</td>\n",
       "      <td>17.007359</td>\n",
       "      <td>0.000649</td>\n",
       "      <td>17.794812</td>\n",
       "      <td>0.001246</td>\n",
       "      <td>26.804271</td>\n",
       "      <td>0.000679</td>\n",
       "      <td>13.672446</td>\n",
       "      <td>32.352828</td>\n",
       "      <td>6.996722</td>\n",
       "      <td>16.486471</td>\n",
       "      <td>10.708748</td>\n",
       "      <td>0.000608</td>\n",
       "      <td>19.714144</td>\n",
       "      <td>16.355214</td>\n",
       "      <td>14.447706</td>\n",
       "      <td>24.134780</td>\n",
       "      <td>5.768966</td>\n",
       "      <td>0.000936</td>\n",
       "      <td>24.359952</td>\n",
       "      <td>0.000564</td>\n",
       "      <td>13.626038</td>\n",
       "      <td>0.000618</td>\n",
       "      <td>187.927495</td>\n",
       "      <td>0.000601</td>\n",
       "      <td>13.444904</td>\n",
       "      <td>0.002747</td>\n",
       "      <td>6.698095</td>\n",
       "      <td>11.881043</td>\n",
       "      <td>0.000588</td>\n",
       "      <td>6.802294</td>\n",
       "      <td>0.000701</td>\n",
       "      <td>8.381200</td>\n",
       "      <td>427.342791</td>\n",
       "    </tr>\n",
       "    <tr>\n",
       "      <th>min</th>\n",
       "      <td>0.00500</td>\n",
       "      <td>2.615000</td>\n",
       "      <td>1.868000</td>\n",
       "      <td>1.521000</td>\n",
       "      <td>1.625000</td>\n",
       "      <td>1.569000</td>\n",
       "      <td>1.649000</td>\n",
       "      <td>2.342000</td>\n",
       "      <td>1.156000</td>\n",
       "      <td>1.10400</td>\n",
       "      <td>1.389000</td>\n",
       "      <td>15.478000</td>\n",
       "      <td>1.309000</td>\n",
       "      <td>1.111000</td>\n",
       "      <td>2.035000</td>\n",
       "      <td>0.029000</td>\n",
       "      <td>1.165000</td>\n",
       "      <td>1.297000</td>\n",
       "      <td>0.875000</td>\n",
       "      <td>1.211000</td>\n",
       "      <td>0.0060</td>\n",
       "      <td>1.155000</td>\n",
       "      <td>0.008000</td>\n",
       "      <td>1.716000</td>\n",
       "      <td>0.009000</td>\n",
       "      <td>1.338000</td>\n",
       "      <td>0.001000</td>\n",
       "      <td>1.027000</td>\n",
       "      <td>0.002000</td>\n",
       "      <td>2.281000</td>\n",
       "      <td>0.013000</td>\n",
       "      <td>1.346000</td>\n",
       "      <td>0.002000</td>\n",
       "      <td>1.603000</td>\n",
       "      <td>1.781000</td>\n",
       "      <td>1.228000</td>\n",
       "      <td>1.561000</td>\n",
       "      <td>1.532000</td>\n",
       "      <td>0.017000</td>\n",
       "      <td>2.452000</td>\n",
       "      <td>1.660000</td>\n",
       "      <td>1.522000</td>\n",
       "      <td>2.046000</td>\n",
       "      <td>1.431000</td>\n",
       "      <td>0.007000</td>\n",
       "      <td>1.488000</td>\n",
       "      <td>0.001000</td>\n",
       "      <td>0.979000</td>\n",
       "      <td>0.005000</td>\n",
       "      <td>1.265000</td>\n",
       "      <td>0.001000</td>\n",
       "      <td>1.685000</td>\n",
       "      <td>0.007000</td>\n",
       "      <td>1.758000</td>\n",
       "      <td>2.071000</td>\n",
       "      <td>0.004000</td>\n",
       "      <td>1.791000</td>\n",
       "      <td>0.002000</td>\n",
       "      <td>1.670000</td>\n",
       "      <td>81.856000</td>\n",
       "    </tr>\n",
       "    <tr>\n",
       "      <th>25%</th>\n",
       "      <td>0.00900</td>\n",
       "      <td>4.325000</td>\n",
       "      <td>3.598000</td>\n",
       "      <td>3.178000</td>\n",
       "      <td>2.977000</td>\n",
       "      <td>3.535000</td>\n",
       "      <td>3.543000</td>\n",
       "      <td>4.019000</td>\n",
       "      <td>3.448000</td>\n",
       "      <td>2.95200</td>\n",
       "      <td>3.918000</td>\n",
       "      <td>15.487000</td>\n",
       "      <td>3.998000</td>\n",
       "      <td>9.999000</td>\n",
       "      <td>3.292000</td>\n",
       "      <td>0.031000</td>\n",
       "      <td>3.556000</td>\n",
       "      <td>3.264000</td>\n",
       "      <td>3.972000</td>\n",
       "      <td>4.050500</td>\n",
       "      <td>0.0070</td>\n",
       "      <td>3.604500</td>\n",
       "      <td>0.008000</td>\n",
       "      <td>3.797500</td>\n",
       "      <td>0.010000</td>\n",
       "      <td>3.795000</td>\n",
       "      <td>0.002000</td>\n",
       "      <td>3.761000</td>\n",
       "      <td>0.002000</td>\n",
       "      <td>4.966250</td>\n",
       "      <td>0.013750</td>\n",
       "      <td>4.193750</td>\n",
       "      <td>0.003000</td>\n",
       "      <td>5.070000</td>\n",
       "      <td>3.212500</td>\n",
       "      <td>3.434250</td>\n",
       "      <td>4.597250</td>\n",
       "      <td>4.925250</td>\n",
       "      <td>0.018000</td>\n",
       "      <td>3.967750</td>\n",
       "      <td>5.085500</td>\n",
       "      <td>4.392250</td>\n",
       "      <td>3.812000</td>\n",
       "      <td>4.963000</td>\n",
       "      <td>0.008000</td>\n",
       "      <td>3.758000</td>\n",
       "      <td>0.002000</td>\n",
       "      <td>6.791000</td>\n",
       "      <td>0.006000</td>\n",
       "      <td>4.776000</td>\n",
       "      <td>0.003000</td>\n",
       "      <td>5.560000</td>\n",
       "      <td>0.016000</td>\n",
       "      <td>3.692000</td>\n",
       "      <td>5.373000</td>\n",
       "      <td>0.006000</td>\n",
       "      <td>4.474000</td>\n",
       "      <td>0.003000</td>\n",
       "      <td>5.315000</td>\n",
       "      <td>321.865000</td>\n",
       "    </tr>\n",
       "    <tr>\n",
       "      <th>50%</th>\n",
       "      <td>0.01000</td>\n",
       "      <td>5.953000</td>\n",
       "      <td>5.180000</td>\n",
       "      <td>4.391000</td>\n",
       "      <td>4.934000</td>\n",
       "      <td>8.592000</td>\n",
       "      <td>4.802000</td>\n",
       "      <td>5.764000</td>\n",
       "      <td>4.720000</td>\n",
       "      <td>5.53000</td>\n",
       "      <td>6.126000</td>\n",
       "      <td>15.487000</td>\n",
       "      <td>7.898000</td>\n",
       "      <td>9.999000</td>\n",
       "      <td>4.812000</td>\n",
       "      <td>0.031000</td>\n",
       "      <td>5.985000</td>\n",
       "      <td>5.380000</td>\n",
       "      <td>10.229000</td>\n",
       "      <td>12.600000</td>\n",
       "      <td>0.0070</td>\n",
       "      <td>5.720000</td>\n",
       "      <td>0.009000</td>\n",
       "      <td>12.732000</td>\n",
       "      <td>0.012000</td>\n",
       "      <td>9.143000</td>\n",
       "      <td>0.002000</td>\n",
       "      <td>10.386000</td>\n",
       "      <td>0.002000</td>\n",
       "      <td>14.585500</td>\n",
       "      <td>0.015000</td>\n",
       "      <td>13.601000</td>\n",
       "      <td>0.003000</td>\n",
       "      <td>8.775000</td>\n",
       "      <td>7.608000</td>\n",
       "      <td>5.886500</td>\n",
       "      <td>6.675500</td>\n",
       "      <td>9.808500</td>\n",
       "      <td>0.018000</td>\n",
       "      <td>12.834000</td>\n",
       "      <td>8.388000</td>\n",
       "      <td>11.505000</td>\n",
       "      <td>7.588500</td>\n",
       "      <td>7.378000</td>\n",
       "      <td>0.009000</td>\n",
       "      <td>7.697000</td>\n",
       "      <td>0.003000</td>\n",
       "      <td>11.688000</td>\n",
       "      <td>0.006000</td>\n",
       "      <td>11.468000</td>\n",
       "      <td>0.003000</td>\n",
       "      <td>8.232000</td>\n",
       "      <td>0.016000</td>\n",
       "      <td>4.808000</td>\n",
       "      <td>7.308000</td>\n",
       "      <td>0.006000</td>\n",
       "      <td>8.475000</td>\n",
       "      <td>0.003000</td>\n",
       "      <td>8.850000</td>\n",
       "      <td>467.447000</td>\n",
       "    </tr>\n",
       "    <tr>\n",
       "      <th>75%</th>\n",
       "      <td>0.01100</td>\n",
       "      <td>16.968000</td>\n",
       "      <td>7.218000</td>\n",
       "      <td>9.081000</td>\n",
       "      <td>10.120000</td>\n",
       "      <td>27.638000</td>\n",
       "      <td>7.124000</td>\n",
       "      <td>8.446000</td>\n",
       "      <td>7.277000</td>\n",
       "      <td>8.75800</td>\n",
       "      <td>9.758000</td>\n",
       "      <td>15.487000</td>\n",
       "      <td>13.255000</td>\n",
       "      <td>9.999000</td>\n",
       "      <td>9.860000</td>\n",
       "      <td>0.031000</td>\n",
       "      <td>27.436000</td>\n",
       "      <td>6.951000</td>\n",
       "      <td>17.563500</td>\n",
       "      <td>39.444500</td>\n",
       "      <td>0.0070</td>\n",
       "      <td>10.224500</td>\n",
       "      <td>0.010000</td>\n",
       "      <td>27.902500</td>\n",
       "      <td>0.012000</td>\n",
       "      <td>14.582500</td>\n",
       "      <td>0.003000</td>\n",
       "      <td>24.215000</td>\n",
       "      <td>0.003000</td>\n",
       "      <td>31.759500</td>\n",
       "      <td>0.016000</td>\n",
       "      <td>29.142750</td>\n",
       "      <td>0.003000</td>\n",
       "      <td>14.601000</td>\n",
       "      <td>20.225000</td>\n",
       "      <td>13.951250</td>\n",
       "      <td>10.816250</td>\n",
       "      <td>19.104500</td>\n",
       "      <td>0.018000</td>\n",
       "      <td>20.250500</td>\n",
       "      <td>17.228250</td>\n",
       "      <td>19.035250</td>\n",
       "      <td>14.322000</td>\n",
       "      <td>12.301000</td>\n",
       "      <td>0.009000</td>\n",
       "      <td>24.168000</td>\n",
       "      <td>0.003000</td>\n",
       "      <td>17.928000</td>\n",
       "      <td>0.006000</td>\n",
       "      <td>18.255000</td>\n",
       "      <td>0.003000</td>\n",
       "      <td>13.380000</td>\n",
       "      <td>0.016000</td>\n",
       "      <td>7.371000</td>\n",
       "      <td>9.460000</td>\n",
       "      <td>0.006000</td>\n",
       "      <td>12.970000</td>\n",
       "      <td>0.003000</td>\n",
       "      <td>11.508000</td>\n",
       "      <td>815.278000</td>\n",
       "    </tr>\n",
       "    <tr>\n",
       "      <th>max</th>\n",
       "      <td>0.01500</td>\n",
       "      <td>147.491000</td>\n",
       "      <td>84.810000</td>\n",
       "      <td>90.528000</td>\n",
       "      <td>123.112000</td>\n",
       "      <td>72.205000</td>\n",
       "      <td>41.192000</td>\n",
       "      <td>81.106000</td>\n",
       "      <td>40.860000</td>\n",
       "      <td>54.85200</td>\n",
       "      <td>91.127000</td>\n",
       "      <td>15.847000</td>\n",
       "      <td>49.482000</td>\n",
       "      <td>9.999000</td>\n",
       "      <td>77.775000</td>\n",
       "      <td>0.032000</td>\n",
       "      <td>364.062000</td>\n",
       "      <td>55.700000</td>\n",
       "      <td>142.252000</td>\n",
       "      <td>176.337000</td>\n",
       "      <td>0.0080</td>\n",
       "      <td>68.489000</td>\n",
       "      <td>0.011000</td>\n",
       "      <td>174.063000</td>\n",
       "      <td>0.012000</td>\n",
       "      <td>73.181000</td>\n",
       "      <td>0.004000</td>\n",
       "      <td>75.416000</td>\n",
       "      <td>0.004000</td>\n",
       "      <td>77.393000</td>\n",
       "      <td>0.016000</td>\n",
       "      <td>119.260000</td>\n",
       "      <td>0.005000</td>\n",
       "      <td>91.102000</td>\n",
       "      <td>214.845000</td>\n",
       "      <td>30.153000</td>\n",
       "      <td>105.066000</td>\n",
       "      <td>39.951000</td>\n",
       "      <td>0.020000</td>\n",
       "      <td>108.685000</td>\n",
       "      <td>79.295000</td>\n",
       "      <td>84.587000</td>\n",
       "      <td>104.576000</td>\n",
       "      <td>25.784000</td>\n",
       "      <td>0.010000</td>\n",
       "      <td>115.233000</td>\n",
       "      <td>0.004000</td>\n",
       "      <td>74.687000</td>\n",
       "      <td>0.007000</td>\n",
       "      <td>1271.595000</td>\n",
       "      <td>0.004000</td>\n",
       "      <td>88.036000</td>\n",
       "      <td>0.016000</td>\n",
       "      <td>41.334000</td>\n",
       "      <td>64.206000</td>\n",
       "      <td>0.007000</td>\n",
       "      <td>30.488000</td>\n",
       "      <td>0.005000</td>\n",
       "      <td>41.263000</td>\n",
       "      <td>2188.007000</td>\n",
       "    </tr>\n",
       "  </tbody>\n",
       "</table>\n",
       "</div>"
      ],
      "text/plain": [
       "           age         at1        at2        at3         at4        at5  \\\n",
       "count  0.05300    0.053000   0.053000   0.053000    0.053000   0.053000   \n",
       "mean   0.01017   16.968585   8.597396   9.470170   10.104358  19.537491   \n",
       "std    0.00149   26.884521  12.834328  15.709553   17.978789  22.240063   \n",
       "min    0.00500    2.615000   1.868000   1.521000    1.625000   1.569000   \n",
       "25%    0.00900    4.325000   3.598000   3.178000    2.977000   3.535000   \n",
       "50%    0.01000    5.953000   5.180000   4.391000    4.934000   8.592000   \n",
       "75%    0.01100   16.968000   7.218000   9.081000   10.120000  27.638000   \n",
       "max    0.01500  147.491000  84.810000  90.528000  123.112000  72.205000   \n",
       "\n",
       "             at6        at7        at8       at9       at10        a11  \\\n",
       "count   0.053000   0.053000   0.053000   0.05300   0.053000   0.053000   \n",
       "mean    7.094811   8.518038   7.349585   8.82366  10.403943  15.507208   \n",
       "std     6.992573  11.961327   8.087258  10.00711  14.039055   0.084037   \n",
       "min     1.649000   2.342000   1.156000   1.10400   1.389000  15.478000   \n",
       "25%     3.543000   4.019000   3.448000   2.95200   3.918000  15.487000   \n",
       "50%     4.802000   5.764000   4.720000   5.53000   6.126000  15.487000   \n",
       "75%     7.124000   8.446000   7.277000   8.75800   9.758000  15.487000   \n",
       "max    41.192000  81.106000  40.860000  54.85200  91.127000  15.847000   \n",
       "\n",
       "            at11       a12       at12       a13        at13       at14  \\\n",
       "count   0.053000  0.053000   0.053000  0.053000    0.053000   0.053000   \n",
       "mean   10.499075  9.747453  10.284698  0.030925   34.707170   7.502264   \n",
       "std     9.006739  1.354423  15.456524  0.000583   64.224742   8.592490   \n",
       "min     1.309000  1.111000   2.035000  0.029000    1.165000   1.297000   \n",
       "25%     3.998000  9.999000   3.292000  0.031000    3.556000   3.264000   \n",
       "50%     7.898000  9.999000   4.812000  0.031000    5.985000   5.380000   \n",
       "75%    13.255000  9.999000   9.860000  0.031000   27.436000   6.951000   \n",
       "max    49.482000  9.999000  77.775000  0.032000  364.062000  55.700000   \n",
       "\n",
       "             at15        at16     a17       at17       a18        at18  \\\n",
       "count    0.051000    0.051000  0.0510   0.051000  0.051000    0.051000   \n",
       "mean    14.612196   28.935784  0.0070   8.819902  0.009196   21.736941   \n",
       "std     20.985554   39.018142  0.0002  10.973050  0.001249   29.839400   \n",
       "min      0.875000    1.211000  0.0060   1.155000  0.008000    1.716000   \n",
       "25%      3.972000    4.050500  0.0070   3.604500  0.008000    3.797500   \n",
       "50%     10.229000   12.600000  0.0070   5.720000  0.009000   12.732000   \n",
       "75%     17.563500   39.444500  0.0070  10.224500  0.010000   27.902500   \n",
       "max    142.252000  176.337000  0.0080  68.489000  0.011000  174.063000   \n",
       "\n",
       "            a19       at19       a20       at20       a21       at21  \\\n",
       "count  0.051000   0.051000  0.049000   0.049000  0.048000   0.048000   \n",
       "mean   0.011275  11.345431  0.002490  16.630857  0.002563  19.210604   \n",
       "std    0.000918  11.787910  0.000767  17.007359  0.000649  17.794812   \n",
       "min    0.009000   1.338000  0.001000   1.027000  0.002000   2.281000   \n",
       "25%    0.010000   3.795000  0.002000   3.761000  0.002000   4.966250   \n",
       "50%    0.012000   9.143000  0.002000  10.386000  0.002000  14.585500   \n",
       "75%    0.012000  14.582500  0.003000  24.215000  0.003000  31.759500   \n",
       "max    0.012000  73.181000  0.004000  75.416000  0.004000  77.393000   \n",
       "\n",
       "            a22        at22       a23       at23        at24       at25  \\\n",
       "count  0.048000    0.048000  0.047000   0.047000    0.047000   0.046000   \n",
       "mean   0.014750   22.487437  0.003128  11.898894   17.843340   9.223391   \n",
       "std    0.001246   26.804271  0.000679  13.672446   32.352828   6.996722   \n",
       "min    0.013000    1.346000  0.002000   1.603000    1.781000   1.228000   \n",
       "25%    0.013750    4.193750  0.003000   5.070000    3.212500   3.434250   \n",
       "50%    0.015000   13.601000  0.003000   8.775000    7.608000   5.886500   \n",
       "75%    0.016000   29.142750  0.003000  14.601000   20.225000  13.951250   \n",
       "max    0.016000  119.260000  0.005000  91.102000  214.845000  30.153000   \n",
       "\n",
       "             at26       at27       a28        at28       at29       at30  \\\n",
       "count    0.046000   0.046000  0.046000    0.046000   0.046000   0.046000   \n",
       "mean    10.951739  13.370543  0.018174   16.825565  14.751565  14.334435   \n",
       "std     16.486471  10.708748  0.000608   19.714144  16.355214  14.447706   \n",
       "min      1.561000   1.532000  0.017000    2.452000   1.660000   1.522000   \n",
       "25%      4.597250   4.925250  0.018000    3.967750   5.085500   4.392250   \n",
       "50%      6.675500   9.808500  0.018000   12.834000   8.388000  11.505000   \n",
       "75%     10.816250  19.104500  0.018000   20.250500  17.228250  19.035250   \n",
       "max    105.066000  39.951000  0.020000  108.685000  79.295000  84.587000   \n",
       "\n",
       "             at31       at32       a33        at33       a34       at34  \\\n",
       "count    0.046000   0.045000  0.045000    0.045000  0.045000   0.045000   \n",
       "mean    17.075565   8.976267  0.008622   19.060022  0.002667  14.940067   \n",
       "std     24.134780   5.768966  0.000936   24.359952  0.000564  13.626038   \n",
       "min      2.046000   1.431000  0.007000    1.488000  0.001000   0.979000   \n",
       "25%      3.812000   4.963000  0.008000    3.758000  0.002000   6.791000   \n",
       "50%      7.588500   7.378000  0.009000    7.697000  0.003000  11.688000   \n",
       "75%     14.322000  12.301000  0.009000   24.168000  0.003000  17.928000   \n",
       "max    104.576000  25.784000  0.010000  115.233000  0.004000  74.687000   \n",
       "\n",
       "            a35         at35       a36       at36       a37       at37  \\\n",
       "count  0.045000     0.045000  0.045000   0.045000  0.045000   0.045000   \n",
       "mean   0.006067    41.877356  0.002844  11.883778  0.015044   6.936111   \n",
       "std    0.000618   187.927495  0.000601  13.444904  0.002747   6.698095   \n",
       "min    0.005000     1.265000  0.001000   1.685000  0.007000   1.758000   \n",
       "25%    0.006000     4.776000  0.003000   5.560000  0.016000   3.692000   \n",
       "50%    0.006000    11.468000  0.003000   8.232000  0.016000   4.808000   \n",
       "75%    0.006000    18.255000  0.003000  13.380000  0.016000   7.371000   \n",
       "max    0.007000  1271.595000  0.004000  88.036000  0.016000  41.334000   \n",
       "\n",
       "            at38       a39       at39       a40       at40   total time  \n",
       "count   0.045000  0.045000   0.045000  0.045000   0.045000     0.045000  \n",
       "mean    9.797978  0.005867  10.043822  0.003089  10.471889   594.029756  \n",
       "std    11.881043  0.000588   6.802294  0.000701   8.381200   427.342791  \n",
       "min     2.071000  0.004000   1.791000  0.002000   1.670000    81.856000  \n",
       "25%     5.373000  0.006000   4.474000  0.003000   5.315000   321.865000  \n",
       "50%     7.308000  0.006000   8.475000  0.003000   8.850000   467.447000  \n",
       "75%     9.460000  0.006000  12.970000  0.003000  11.508000   815.278000  \n",
       "max    64.206000  0.007000  30.488000  0.005000  41.263000  2188.007000  "
      ]
     },
     "execution_count": 8,
     "metadata": {},
     "output_type": "execute_result"
    }
   ],
   "source": [
    "(df.describe())/1000"
   ]
  },
  {
   "cell_type": "markdown",
   "metadata": {
    "id": "PzWJHEEWiNg4"
   },
   "source": [
    "## Data Visulization"
   ]
  },
  {
   "cell_type": "code",
   "execution_count": 9,
   "metadata": {
    "colab": {
     "base_uri": "https://localhost:8080/",
     "height": 286
    },
    "id": "zoHA3-G9hXQO",
    "outputId": "4631ef1e-c1cb-4ca9-f656-aecbab9b40cf"
   },
   "outputs": [
    {
     "data": {
      "text/plain": [
       "<AxesSubplot:xlabel='count', ylabel='sex'>"
      ]
     },
     "execution_count": 9,
     "metadata": {},
     "output_type": "execute_result"
    },
    {
     "data": {
      "image/png": "[encoded data removed]",
      "text/plain": [
       "<Figure size 1440x360 with 1 Axes>"
      ]
     },
     "metadata": {
      "needs_background": "light"
     },
     "output_type": "display_data"
    }
   ],
   "source": [
    "plt.figure(figsize=(20,5))\n",
    "sns.countplot(y = 'sex',data=df)"
   ]
  },
  {
   "cell_type": "code",
   "execution_count": 10,
   "metadata": {},
   "outputs": [
    {
     "data": {
      "text/plain": [
       "Male      29\n",
       "Female    24\n",
       "Name: sex, dtype: int64"
      ]
     },
     "execution_count": 10,
     "metadata": {},
     "output_type": "execute_result"
    }
   ],
   "source": [
    "df['sex'].value_counts()"
   ]
  },
  {
   "cell_type": "code",
   "execution_count": 11,
   "metadata": {
    "colab": {
     "base_uri": "https://localhost:8080/",
     "height": 282
    },
    "id": "0i0tuIENif7_",
    "outputId": "a01146a6-f883-48de-a3a4-445b7e40cac1"
   },
   "outputs": [
    {
     "data": {
      "text/plain": [
       "<AxesSubplot:xlabel='count', ylabel='a1'>"
      ]
     },
     "execution_count": 11,
     "metadata": {},
     "output_type": "execute_result"
    },
    {
     "data": {
      "image/png": "[encoded data removed]",
      "text/plain": [
       "<Figure size 1440x360 with 1 Axes>"
      ]
     },
     "metadata": {
      "needs_background": "light"
     },
     "output_type": "display_data"
    }
   ],
   "source": [
    "plt.figure(figsize=(20,5))\n",
    "sns.countplot(y = 'a1',data=df)"
   ]
  },
  {
   "cell_type": "code",
   "execution_count": 12,
   "metadata": {},
   "outputs": [
    {
     "data": {
      "text/plain": [
       "Accepted      39\n",
       "Acepted        6\n",
       "Acceppted      5\n",
       "Axcepted       3\n",
       "Name: a1, dtype: int64"
      ]
     },
     "execution_count": 12,
     "metadata": {},
     "output_type": "execute_result"
    }
   ],
   "source": [
    "df['a1'].value_counts()"
   ]
  },
  {
   "cell_type": "code",
   "execution_count": 13,
   "metadata": {},
   "outputs": [
    {
     "name": "stdout",
     "output_type": "stream",
     "text": [
      "Correct Answer 73.58490566037736 %\n"
     ]
    }
   ],
   "source": [
    "print(\"Correct Answer\",39/53*100,\"%\")"
   ]
  },
  {
   "cell_type": "code",
   "execution_count": 14,
   "metadata": {
    "colab": {
     "base_uri": "https://localhost:8080/",
     "height": 288
    },
    "id": "6AujPw_GiZoo",
    "outputId": "f5400590-6b9c-4128-b518-9fdfef229627"
   },
   "outputs": [
    {
     "data": {
      "text/plain": [
       "<AxesSubplot:xlabel='count', ylabel='a2'>"
      ]
     },
     "execution_count": 14,
     "metadata": {},
     "output_type": "execute_result"
    },
    {
     "data": {
      "image/png": "[encoded data removed]",
      "text/plain": [
       "<Figure size 1440x360 with 1 Axes>"
      ]
     },
     "metadata": {
      "needs_background": "light"
     },
     "output_type": "display_data"
    }
   ],
   "source": [
    "plt.figure(figsize=(20,5))\n",
    "sns.countplot(y = 'a2',data=df)"
   ]
  },
  {
   "cell_type": "code",
   "execution_count": 15,
   "metadata": {},
   "outputs": [
    {
     "data": {
      "text/plain": [
       "plain     39\n",
       "plane     12\n",
       "plian      2\n",
       "Name: a2, dtype: int64"
      ]
     },
     "execution_count": 15,
     "metadata": {},
     "output_type": "execute_result"
    }
   ],
   "source": [
    "df['a2'].value_counts()"
   ]
  },
  {
   "cell_type": "code",
   "execution_count": 16,
   "metadata": {},
   "outputs": [
    {
     "name": "stdout",
     "output_type": "stream",
     "text": [
      "Correct Answer 73.58490566037736 %\n"
     ]
    }
   ],
   "source": [
    "print(\"Correct Answer\",39/53*100,\"%\")"
   ]
  },
  {
   "cell_type": "code",
   "execution_count": 17,
   "metadata": {
    "colab": {
     "base_uri": "https://localhost:8080/",
     "height": 277
    },
    "id": "xY84dOxJiZsI",
    "outputId": "7ec1cff0-e73c-4cc4-b9b7-62cecdaaa15e"
   },
   "outputs": [
    {
     "data": {
      "text/plain": [
       "<AxesSubplot:xlabel='count', ylabel='a3'>"
      ]
     },
     "execution_count": 17,
     "metadata": {},
     "output_type": "execute_result"
    },
    {
     "data": {
      "image/png": "[encoded data removed]",
      "text/plain": [
       "<Figure size 1440x360 with 1 Axes>"
      ]
     },
     "metadata": {
      "needs_background": "light"
     },
     "output_type": "display_data"
    }
   ],
   "source": [
    "plt.figure(figsize=(20,5))\n",
    "sns.countplot(y = 'a3',data=df)"
   ]
  },
  {
   "cell_type": "code",
   "execution_count": 18,
   "metadata": {},
   "outputs": [
    {
     "data": {
      "text/plain": [
       "Computer room    49\n",
       " Playground       3\n",
       "Art room          1\n",
       "Name: a3, dtype: int64"
      ]
     },
     "execution_count": 18,
     "metadata": {},
     "output_type": "execute_result"
    }
   ],
   "source": [
    "df['a3'].value_counts()"
   ]
  },
  {
   "cell_type": "code",
   "execution_count": 19,
   "metadata": {},
   "outputs": [
    {
     "name": "stdout",
     "output_type": "stream",
     "text": [
      "Correct Answer 92.45283018867924 %\n"
     ]
    }
   ],
   "source": [
    "print(\"Correct Answer\",49/53*100,\"%\")"
   ]
  },
  {
   "cell_type": "code",
   "execution_count": 20,
   "metadata": {
    "colab": {
     "base_uri": "https://localhost:8080/",
     "height": 271
    },
    "id": "4ikMgjyziZwZ",
    "outputId": "d4b9659b-ceb1-493b-dcdf-8be59227cd6c"
   },
   "outputs": [
    {
     "data": {
      "text/plain": [
       "<AxesSubplot:xlabel='count', ylabel='a4'>"
      ]
     },
     "execution_count": 20,
     "metadata": {},
     "output_type": "execute_result"
    },
    {
     "data": {
      "image/png": "[encoded data removed]",
      "text/plain": [
       "<Figure size 1440x360 with 1 Axes>"
      ]
     },
     "metadata": {
      "needs_background": "light"
     },
     "output_type": "display_data"
    }
   ],
   "source": [
    "plt.figure(figsize=(20,5))\n",
    "sns.countplot(y = 'a4',data=df)"
   ]
  },
  {
   "cell_type": "code",
   "execution_count": 21,
   "metadata": {},
   "outputs": [
    {
     "data": {
      "text/plain": [
       "Atlas                    46\n",
       "Geographic dictionary     5\n",
       "Almanac                   1\n",
       "Dictionary                1\n",
       "Name: a4, dtype: int64"
      ]
     },
     "execution_count": 21,
     "metadata": {},
     "output_type": "execute_result"
    }
   ],
   "source": [
    "df['a4'].value_counts()"
   ]
  },
  {
   "cell_type": "code",
   "execution_count": 22,
   "metadata": {},
   "outputs": [
    {
     "name": "stdout",
     "output_type": "stream",
     "text": [
      "Correct Answer 86.79245283018868 %\n"
     ]
    }
   ],
   "source": [
    "print(\"Correct Answer\",46/53*100,\"%\")"
   ]
  },
  {
   "cell_type": "code",
   "execution_count": 23,
   "metadata": {
    "colab": {
     "base_uri": "https://localhost:8080/",
     "height": 246
    },
    "id": "7OMQQdA7iZzZ",
    "outputId": "e54d3f59-bd54-4de6-a90b-331bed1b099a"
   },
   "outputs": [
    {
     "data": {
      "text/plain": [
       "<AxesSubplot:xlabel='count', ylabel='a5'>"
      ]
     },
     "execution_count": 23,
     "metadata": {},
     "output_type": "execute_result"
    },
    {
     "data": {
      "image/png": "[encoded data removed]",
      "text/plain": [
       "<Figure size 1440x360 with 1 Axes>"
      ]
     },
     "metadata": {
      "needs_background": "light"
     },
     "output_type": "display_data"
    }
   ],
   "source": [
    "plt.figure(figsize=(20,5))\n",
    "sns.countplot(y = 'a5',data=df)"
   ]
  },
  {
   "cell_type": "code",
   "execution_count": 24,
   "metadata": {},
   "outputs": [
    {
     "data": {
      "text/plain": [
       "I am having a great day! can you type this for me ?     24\n",
       "I am having  greet day! can you type this for me ?      18\n",
       "I am having a great day!. can you type this for me ?     6\n",
       "I am having a great day| can you type this for me ?      5\n",
       "Name: a5, dtype: int64"
      ]
     },
     "execution_count": 24,
     "metadata": {},
     "output_type": "execute_result"
    }
   ],
   "source": [
    "df['a5'].value_counts()"
   ]
  },
  {
   "cell_type": "code",
   "execution_count": 25,
   "metadata": {},
   "outputs": [
    {
     "name": "stdout",
     "output_type": "stream",
     "text": [
      "Correct Answer 45.28301886792453 %\n"
     ]
    }
   ],
   "source": [
    "print(\"Correct Answer\",24/53*100,\"%\")"
   ]
  },
  {
   "cell_type": "code",
   "execution_count": 26,
   "metadata": {
    "colab": {
     "base_uri": "https://localhost:8080/",
     "height": 287
    },
    "id": "FZH82q9PiZ2j",
    "outputId": "f2014ea7-1521-4679-8ddb-2fa9b534114f"
   },
   "outputs": [
    {
     "data": {
      "text/plain": [
       "<AxesSubplot:xlabel='count', ylabel='a6'>"
      ]
     },
     "execution_count": 26,
     "metadata": {},
     "output_type": "execute_result"
    },
    {
     "data": {
      "image/png": "[encoded data removed]",
      "text/plain": [
       "<Figure size 1440x360 with 1 Axes>"
      ]
     },
     "metadata": {
      "needs_background": "light"
     },
     "output_type": "display_data"
    }
   ],
   "source": [
    "plt.figure(figsize=(20,5))\n",
    "sns.countplot(y = 'a6',data=df)"
   ]
  },
  {
   "cell_type": "code",
   "execution_count": 27,
   "metadata": {},
   "outputs": [
    {
     "data": {
      "text/plain": [
       "Fifth     48\n",
       "Fiveth     2\n",
       "Five       2\n",
       "fifvth     1\n",
       "Name: a6, dtype: int64"
      ]
     },
     "execution_count": 27,
     "metadata": {},
     "output_type": "execute_result"
    }
   ],
   "source": [
    "df['a6'].value_counts()"
   ]
  },
  {
   "cell_type": "code",
   "execution_count": 28,
   "metadata": {},
   "outputs": [
    {
     "name": "stdout",
     "output_type": "stream",
     "text": [
      "Correct Answer 90.56603773584906 %\n"
     ]
    }
   ],
   "source": [
    "print(\"Correct Answer\",48/53*100,\"%\")"
   ]
  },
  {
   "cell_type": "code",
   "execution_count": 29,
   "metadata": {
    "colab": {
     "base_uri": "https://localhost:8080/",
     "height": 283
    },
    "id": "WJVfmzWMiZ5n",
    "outputId": "1374b175-de88-4bbe-d384-1a56db1973e9"
   },
   "outputs": [
    {
     "data": {
      "text/plain": [
       "<AxesSubplot:xlabel='count', ylabel='a7'>"
      ]
     },
     "execution_count": 29,
     "metadata": {},
     "output_type": "execute_result"
    },
    {
     "data": {
      "image/png": "[encoded data removed]",
      "text/plain": [
       "<Figure size 1440x360 with 1 Axes>"
      ]
     },
     "metadata": {
      "needs_background": "light"
     },
     "output_type": "display_data"
    }
   ],
   "source": [
    "plt.figure(figsize=(20,5))\n",
    "sns.countplot(y = 'a7',data=df)"
   ]
  },
  {
   "cell_type": "code",
   "execution_count": 30,
   "metadata": {},
   "outputs": [
    {
     "data": {
      "text/plain": [
       "Breakfast    47\n",
       "Breakfost     6\n",
       "Name: a7, dtype: int64"
      ]
     },
     "execution_count": 30,
     "metadata": {},
     "output_type": "execute_result"
    }
   ],
   "source": [
    "df['a7'].value_counts()"
   ]
  },
  {
   "cell_type": "code",
   "execution_count": 31,
   "metadata": {},
   "outputs": [
    {
     "name": "stdout",
     "output_type": "stream",
     "text": [
      "Correct Answer 88.67924528301887 %\n"
     ]
    }
   ],
   "source": [
    "print(\"Correct Answer\",47/53*100,\"%\")"
   ]
  },
  {
   "cell_type": "code",
   "execution_count": 32,
   "metadata": {
    "colab": {
     "base_uri": "https://localhost:8080/",
     "height": 286
    },
    "id": "kNpJVg6hiZ8Q",
    "outputId": "4e27262d-967a-497b-fc58-7b848bc17d39"
   },
   "outputs": [
    {
     "data": {
      "text/plain": [
       "<AxesSubplot:xlabel='count', ylabel='a8'>"
      ]
     },
     "execution_count": 32,
     "metadata": {},
     "output_type": "execute_result"
    },
    {
     "data": {
      "image/png": "[encoded data removed]",
      "text/plain": [
       "<Figure size 1440x360 with 1 Axes>"
      ]
     },
     "metadata": {
      "needs_background": "light"
     },
     "output_type": "display_data"
    }
   ],
   "source": [
    "plt.figure(figsize=(20,5))\n",
    "sns.countplot(y = 'a8',data=df)"
   ]
  },
  {
   "cell_type": "code",
   "execution_count": 33,
   "metadata": {},
   "outputs": [
    {
     "data": {
      "text/plain": [
       "Doctor    44\n",
       "Docter     7\n",
       "Dcotor     2\n",
       "Name: a8, dtype: int64"
      ]
     },
     "execution_count": 33,
     "metadata": {},
     "output_type": "execute_result"
    }
   ],
   "source": [
    "df['a8'].value_counts()"
   ]
  },
  {
   "cell_type": "code",
   "execution_count": 34,
   "metadata": {},
   "outputs": [
    {
     "name": "stdout",
     "output_type": "stream",
     "text": [
      "Correct Answer 83.01886792452831 %\n"
     ]
    }
   ],
   "source": [
    "print(\"Correct Answer\",44/53*100,\"%\")"
   ]
  },
  {
   "cell_type": "code",
   "execution_count": 35,
   "metadata": {
    "colab": {
     "base_uri": "https://localhost:8080/",
     "height": 285
    },
    "id": "-__tQOQziZ_l",
    "outputId": "974d0ebe-5faa-435c-c3da-b838044cbff2"
   },
   "outputs": [
    {
     "data": {
      "text/plain": [
       "<AxesSubplot:xlabel='count', ylabel='a9'>"
      ]
     },
     "execution_count": 35,
     "metadata": {},
     "output_type": "execute_result"
    },
    {
     "data": {
      "image/png": "[encoded data removed]",
      "text/plain": [
       "<Figure size 1440x360 with 1 Axes>"
      ]
     },
     "metadata": {
      "needs_background": "light"
     },
     "output_type": "display_data"
    }
   ],
   "source": [
    "plt.figure(figsize=(20,5))\n",
    "sns.countplot(y = 'a9',data=df)"
   ]
  },
  {
   "cell_type": "code",
   "execution_count": 36,
   "metadata": {},
   "outputs": [
    {
     "data": {
      "text/plain": [
       "Dark        40\n",
       "Black        6\n",
       "Darker       5\n",
       "Darkest      2\n",
       "Name: a9, dtype: int64"
      ]
     },
     "execution_count": 36,
     "metadata": {},
     "output_type": "execute_result"
    }
   ],
   "source": [
    "df['a9'].value_counts()"
   ]
  },
  {
   "cell_type": "code",
   "execution_count": 37,
   "metadata": {},
   "outputs": [
    {
     "name": "stdout",
     "output_type": "stream",
     "text": [
      "Correct Answer 75.47169811320755 %\n"
     ]
    }
   ],
   "source": [
    "print(\"Correct Answer\",40/53*100,\"%\")"
   ]
  },
  {
   "cell_type": "code",
   "execution_count": 38,
   "metadata": {
    "colab": {
     "base_uri": "https://localhost:8080/",
     "height": 286
    },
    "id": "v3SziQa3iaCN",
    "outputId": "76e6c0d7-d79e-4648-a410-bbd1ea7516fc"
   },
   "outputs": [
    {
     "data": {
      "text/plain": [
       "<AxesSubplot:xlabel='count', ylabel='a10'>"
      ]
     },
     "execution_count": 38,
     "metadata": {},
     "output_type": "execute_result"
    },
    {
     "data": {
      "image/png": "[encoded data removed]",
      "text/plain": [
       "<Figure size 1440x360 with 1 Axes>"
      ]
     },
     "metadata": {
      "needs_background": "light"
     },
     "output_type": "display_data"
    }
   ],
   "source": [
    "plt.figure(figsize=(20,5))\n",
    "sns.countplot(y = 'a10',data=df)"
   ]
  },
  {
   "cell_type": "code",
   "execution_count": 39,
   "metadata": {},
   "outputs": [
    {
     "data": {
      "text/plain": [
       "English    49\n",
       "Hindi       4\n",
       "Name: a10, dtype: int64"
      ]
     },
     "execution_count": 39,
     "metadata": {},
     "output_type": "execute_result"
    }
   ],
   "source": [
    "df['a10'].value_counts()"
   ]
  },
  {
   "cell_type": "code",
   "execution_count": 40,
   "metadata": {},
   "outputs": [
    {
     "name": "stdout",
     "output_type": "stream",
     "text": [
      "Correct Answer 92.45283018867924 %\n"
     ]
    }
   ],
   "source": [
    "print(\"Correct Answer\",49/53*100,\"%\")"
   ]
  },
  {
   "cell_type": "code",
   "execution_count": 41,
   "metadata": {
    "colab": {
     "base_uri": "https://localhost:8080/",
     "height": 287
    },
    "id": "ezKJlt3viaFq",
    "outputId": "2fcaa8d2-718e-4581-de16-646dbb83f40f"
   },
   "outputs": [
    {
     "data": {
      "text/plain": [
       "<AxesSubplot:xlabel='count', ylabel='a11'>"
      ]
     },
     "execution_count": 41,
     "metadata": {},
     "output_type": "execute_result"
    },
    {
     "data": {
      "image/png": "[encoded data removed]",
      "text/plain": [
       "<Figure size 1440x360 with 1 Axes>"
      ]
     },
     "metadata": {
      "needs_background": "light"
     },
     "output_type": "display_data"
    }
   ],
   "source": [
    "plt.figure(figsize=(20,5))\n",
    "sns.countplot(y = 'a11',data=df)"
   ]
  },
  {
   "cell_type": "code",
   "execution_count": 42,
   "metadata": {},
   "outputs": [
    {
     "data": {
      "text/plain": [
       "15487    49\n",
       "15847     3\n",
       "15478     1\n",
       "Name: a11, dtype: int64"
      ]
     },
     "execution_count": 42,
     "metadata": {},
     "output_type": "execute_result"
    }
   ],
   "source": [
    "df['a11'].value_counts()"
   ]
  },
  {
   "cell_type": "code",
   "execution_count": 43,
   "metadata": {},
   "outputs": [
    {
     "name": "stdout",
     "output_type": "stream",
     "text": [
      "Correct Answer 92.45283018867924 %\n"
     ]
    }
   ],
   "source": [
    "print(\"Correct Answer\",49/53*100,\"%\")"
   ]
  },
  {
   "cell_type": "code",
   "execution_count": 44,
   "metadata": {
    "colab": {
     "base_uri": "https://localhost:8080/",
     "height": 288
    },
    "id": "tFhvZ-lBiaJR",
    "outputId": "e13fda9c-a5fb-499c-f610-57ba648ea695"
   },
   "outputs": [
    {
     "data": {
      "text/plain": [
       "<AxesSubplot:xlabel='count', ylabel='a12'>"
      ]
     },
     "execution_count": 44,
     "metadata": {},
     "output_type": "execute_result"
    },
    {
     "data": {
      "image/png": "[encoded data removed]",
      "text/plain": [
       "<Figure size 1440x360 with 1 Axes>"
      ]
     },
     "metadata": {
      "needs_background": "light"
     },
     "output_type": "display_data"
    }
   ],
   "source": [
    "plt.figure(figsize=(20,5))\n",
    "sns.countplot(y = 'a12',data=df)"
   ]
  },
  {
   "cell_type": "code",
   "execution_count": 45,
   "metadata": {},
   "outputs": [
    {
     "data": {
      "text/plain": [
       "9999    51\n",
       "5555     1\n",
       "1111     1\n",
       "Name: a12, dtype: int64"
      ]
     },
     "execution_count": 45,
     "metadata": {},
     "output_type": "execute_result"
    }
   ],
   "source": [
    "df['a12'].value_counts()"
   ]
  },
  {
   "cell_type": "code",
   "execution_count": 46,
   "metadata": {},
   "outputs": [
    {
     "name": "stdout",
     "output_type": "stream",
     "text": [
      "Correct Answer 96.22641509433963 %\n"
     ]
    }
   ],
   "source": [
    "print(\"Correct Answer\",51/53*100,\"%\")"
   ]
  },
  {
   "cell_type": "code",
   "execution_count": 47,
   "metadata": {
    "colab": {
     "base_uri": "https://localhost:8080/",
     "height": 291
    },
    "id": "uV0vSAWIiaMA",
    "outputId": "f037ff10-12b9-4f7f-97b7-4f293705a022"
   },
   "outputs": [
    {
     "data": {
      "text/plain": [
       "<AxesSubplot:xlabel='count', ylabel='a13'>"
      ]
     },
     "execution_count": 47,
     "metadata": {},
     "output_type": "execute_result"
    },
    {
     "data": {
      "image/png": "[encoded data removed]",
      "text/plain": [
       "<Figure size 1440x360 with 1 Axes>"
      ]
     },
     "metadata": {
      "needs_background": "light"
     },
     "output_type": "display_data"
    }
   ],
   "source": [
    "plt.figure(figsize=(20,5))\n",
    "sns.countplot(y = 'a13',data=df)"
   ]
  },
  {
   "cell_type": "code",
   "execution_count": 48,
   "metadata": {},
   "outputs": [
    {
     "data": {
      "text/plain": [
       "31    38\n",
       "30     8\n",
       "32     6\n",
       "29     1\n",
       "Name: a13, dtype: int64"
      ]
     },
     "execution_count": 48,
     "metadata": {},
     "output_type": "execute_result"
    }
   ],
   "source": [
    "df['a13'].value_counts()"
   ]
  },
  {
   "cell_type": "code",
   "execution_count": 49,
   "metadata": {},
   "outputs": [
    {
     "name": "stdout",
     "output_type": "stream",
     "text": [
      "Correct Answer 71.69811320754717 %\n"
     ]
    }
   ],
   "source": [
    "print(\"Correct Answer\",38/53*100,\"%\")"
   ]
  },
  {
   "cell_type": "code",
   "execution_count": 50,
   "metadata": {
    "colab": {
     "base_uri": "https://localhost:8080/",
     "height": 282
    },
    "id": "cowf6TqmiaPP",
    "outputId": "5aa2ef50-74f6-4475-fcd6-b3219f1e4890"
   },
   "outputs": [
    {
     "data": {
      "text/plain": [
       "<AxesSubplot:xlabel='count', ylabel='a14'>"
      ]
     },
     "execution_count": 50,
     "metadata": {},
     "output_type": "execute_result"
    },
    {
     "data": {
      "image/png": "[encoded data removed]",
      "text/plain": [
       "<Figure size 1440x360 with 1 Axes>"
      ]
     },
     "metadata": {
      "needs_background": "light"
     },
     "output_type": "display_data"
    }
   ],
   "source": [
    "plt.figure(figsize=(20,5))\n",
    "sns.countplot(y = 'a14',data=df)"
   ]
  },
  {
   "cell_type": "code",
   "execution_count": 51,
   "metadata": {},
   "outputs": [
    {
     "data": {
      "text/plain": [
       "Summer     49\n",
       "Sumer       2\n",
       "Summmer     1\n",
       "Sommer      1\n",
       "Name: a14, dtype: int64"
      ]
     },
     "execution_count": 51,
     "metadata": {},
     "output_type": "execute_result"
    }
   ],
   "source": [
    "df['a14'].value_counts()"
   ]
  },
  {
   "cell_type": "code",
   "execution_count": 52,
   "metadata": {},
   "outputs": [
    {
     "name": "stdout",
     "output_type": "stream",
     "text": [
      "Correct Answer 92.45283018867924 %\n"
     ]
    }
   ],
   "source": [
    "print(\"Correct Answer\",49/53*100,\"%\")"
   ]
  },
  {
   "cell_type": "code",
   "execution_count": 53,
   "metadata": {
    "colab": {
     "base_uri": "https://localhost:8080/",
     "height": 281
    },
    "id": "5FAUYzQ9iaSA",
    "outputId": "26f21009-028b-4622-83dc-b786a85b7118"
   },
   "outputs": [
    {
     "data": {
      "text/plain": [
       "<AxesSubplot:xlabel='count', ylabel='a15'>"
      ]
     },
     "execution_count": 53,
     "metadata": {},
     "output_type": "execute_result"
    },
    {
     "data": {
      "image/png": "[encoded data removed]",
      "text/plain": [
       "<Figure size 1440x360 with 1 Axes>"
      ]
     },
     "metadata": {
      "needs_background": "light"
     },
     "output_type": "display_data"
    }
   ],
   "source": [
    "plt.figure(figsize=(20,5))\n",
    "sns.countplot(y = 'a15',data=df)"
   ]
  },
  {
   "cell_type": "code",
   "execution_count": 54,
   "metadata": {},
   "outputs": [
    {
     "data": {
      "text/plain": [
       "34M7M5MM    46\n",
       "34M7W5MM     3\n",
       "34M7MM5M     2\n",
       "Name: a15, dtype: int64"
      ]
     },
     "execution_count": 54,
     "metadata": {},
     "output_type": "execute_result"
    }
   ],
   "source": [
    "df['a15'].value_counts()"
   ]
  },
  {
   "cell_type": "code",
   "execution_count": 55,
   "metadata": {},
   "outputs": [
    {
     "name": "stdout",
     "output_type": "stream",
     "text": [
      "Correct Answer 86.79245283018868 %\n"
     ]
    }
   ],
   "source": [
    "print(\"Correct Answer\",46/53*100,\"%\")"
   ]
  },
  {
   "cell_type": "code",
   "execution_count": 56,
   "metadata": {
    "colab": {
     "base_uri": "https://localhost:8080/",
     "height": 278
    },
    "id": "leUUjVyCiaUw",
    "outputId": "546d304d-cc63-40a8-dbe2-477afe908fff"
   },
   "outputs": [
    {
     "data": {
      "text/plain": [
       "<AxesSubplot:xlabel='count', ylabel='a16'>"
      ]
     },
     "execution_count": 56,
     "metadata": {},
     "output_type": "execute_result"
    },
    {
     "data": {
      "image/png": "[encoded data removed]",
      "text/plain": [
       "<Figure size 1440x360 with 1 Axes>"
      ]
     },
     "metadata": {
      "needs_background": "light"
     },
     "output_type": "display_data"
    }
   ],
   "source": [
    "plt.figure(figsize=(20,5))\n",
    "sns.countplot(y = 'a16',data=df)"
   ]
  },
  {
   "cell_type": "code",
   "execution_count": 57,
   "metadata": {},
   "outputs": [
    {
     "data": {
      "text/plain": [
       "WWMWMWMW    26\n",
       "WWMWMWMM    21\n",
       "WWMWMWWM     4\n",
       "Name: a16, dtype: int64"
      ]
     },
     "execution_count": 57,
     "metadata": {},
     "output_type": "execute_result"
    }
   ],
   "source": [
    "df['a16'].value_counts()"
   ]
  },
  {
   "cell_type": "code",
   "execution_count": 58,
   "metadata": {},
   "outputs": [
    {
     "name": "stdout",
     "output_type": "stream",
     "text": [
      "Correct Answer 49.056603773584904 %\n"
     ]
    }
   ],
   "source": [
    "print(\"Correct Answer\",26/53*100,\"%\")"
   ]
  },
  {
   "cell_type": "code",
   "execution_count": 59,
   "metadata": {
    "colab": {
     "base_uri": "https://localhost:8080/",
     "height": 290
    },
    "id": "I1c4FFMwlkHp",
    "outputId": "5b5b266f-ca04-4165-f2bd-5f755ab02001"
   },
   "outputs": [
    {
     "data": {
      "text/plain": [
       "<AxesSubplot:xlabel='count', ylabel='a17'>"
      ]
     },
     "execution_count": 59,
     "metadata": {},
     "output_type": "execute_result"
    },
    {
     "data": {
      "image/png": "[encoded data removed]",
      "text/plain": [
       "<Figure size 1440x360 with 1 Axes>"
      ]
     },
     "metadata": {
      "needs_background": "light"
     },
     "output_type": "display_data"
    }
   ],
   "source": [
    "plt.figure(figsize=(20,5))\n",
    "sns.countplot(y = 'a17',data=df)"
   ]
  },
  {
   "cell_type": "code",
   "execution_count": 60,
   "metadata": {},
   "outputs": [
    {
     "data": {
      "text/plain": [
       "7.0    49\n",
       "8.0     1\n",
       "6.0     1\n",
       "Name: a17, dtype: int64"
      ]
     },
     "execution_count": 60,
     "metadata": {},
     "output_type": "execute_result"
    }
   ],
   "source": [
    "df['a17'].value_counts()"
   ]
  },
  {
   "cell_type": "code",
   "execution_count": 61,
   "metadata": {},
   "outputs": [
    {
     "name": "stdout",
     "output_type": "stream",
     "text": [
      "Correct Answer 92.45283018867924 %\n"
     ]
    }
   ],
   "source": [
    "print(\"Correct Answer\",49/53*100,\"%\")"
   ]
  },
  {
   "cell_type": "code",
   "execution_count": 62,
   "metadata": {
    "colab": {
     "base_uri": "https://localhost:8080/",
     "height": 289
    },
    "id": "eLm0Le0AlkUR",
    "outputId": "a10ad17b-2e3a-4e91-cc60-c1ad4b03d2d3"
   },
   "outputs": [
    {
     "data": {
      "text/plain": [
       "<AxesSubplot:xlabel='count', ylabel='a18'>"
      ]
     },
     "execution_count": 62,
     "metadata": {},
     "output_type": "execute_result"
    },
    {
     "data": {
      "image/png": "[encoded data removed]",
      "text/plain": [
       "<Figure size 1440x360 with 1 Axes>"
      ]
     },
     "metadata": {
      "needs_background": "light"
     },
     "output_type": "display_data"
    }
   ],
   "source": [
    "plt.figure(figsize=(20,5))\n",
    "sns.countplot(y = 'a18',data=df)"
   ]
  },
  {
   "cell_type": "code",
   "execution_count": 63,
   "metadata": {},
   "outputs": [
    {
     "data": {
      "text/plain": [
       "8.0     24\n",
       "10.0    12\n",
       "11.0    11\n",
       "9.0      4\n",
       "Name: a18, dtype: int64"
      ]
     },
     "execution_count": 63,
     "metadata": {},
     "output_type": "execute_result"
    }
   ],
   "source": [
    "df['a18'].value_counts()"
   ]
  },
  {
   "cell_type": "code",
   "execution_count": 64,
   "metadata": {},
   "outputs": [
    {
     "name": "stdout",
     "output_type": "stream",
     "text": [
      "Correct Answer 45.28301886792453 %\n"
     ]
    }
   ],
   "source": [
    "print(\"Correct Answer\",24/53*100,\"%\")"
   ]
  },
  {
   "cell_type": "code",
   "execution_count": 65,
   "metadata": {
    "colab": {
     "base_uri": "https://localhost:8080/",
     "height": 289
    },
    "id": "EpwIIfyKlvYR",
    "outputId": "2c0f77e6-21fa-47fc-9c3c-5ad6998ab8a9"
   },
   "outputs": [
    {
     "data": {
      "text/plain": [
       "<AxesSubplot:xlabel='count', ylabel='a19'>"
      ]
     },
     "execution_count": 65,
     "metadata": {},
     "output_type": "execute_result"
    },
    {
     "data": {
      "image/png": "[encoded data removed]",
      "text/plain": [
       "<Figure size 1440x360 with 1 Axes>"
      ]
     },
     "metadata": {
      "needs_background": "light"
     },
     "output_type": "display_data"
    }
   ],
   "source": [
    "plt.figure(figsize=(20,5))\n",
    "sns.countplot(y = 'a19',data=df)"
   ]
  },
  {
   "cell_type": "code",
   "execution_count": 66,
   "metadata": {},
   "outputs": [
    {
     "data": {
      "text/plain": [
       "12.0    29\n",
       "10.0    13\n",
       "11.0     8\n",
       "9.0      1\n",
       "Name: a19, dtype: int64"
      ]
     },
     "execution_count": 66,
     "metadata": {},
     "output_type": "execute_result"
    }
   ],
   "source": [
    "df['a19'].value_counts()"
   ]
  },
  {
   "cell_type": "code",
   "execution_count": 67,
   "metadata": {},
   "outputs": [
    {
     "name": "stdout",
     "output_type": "stream",
     "text": [
      "Correct Answer 54.71698113207547 %\n"
     ]
    }
   ],
   "source": [
    "print(\"Correct Answer\",29/53*100,\"%\")"
   ]
  },
  {
   "cell_type": "code",
   "execution_count": 68,
   "metadata": {
    "colab": {
     "base_uri": "https://localhost:8080/",
     "height": 290
    },
    "id": "S2KOpXGyl1OB",
    "outputId": "29e4e612-d9ba-49d9-dc4d-c42834014f10"
   },
   "outputs": [
    {
     "data": {
      "text/plain": [
       "<AxesSubplot:xlabel='count', ylabel='a20'>"
      ]
     },
     "execution_count": 68,
     "metadata": {},
     "output_type": "execute_result"
    },
    {
     "data": {
      "image/png": "[encoded data removed]",
      "text/plain": [
       "<Figure size 1440x360 with 1 Axes>"
      ]
     },
     "metadata": {
      "needs_background": "light"
     },
     "output_type": "display_data"
    }
   ],
   "source": [
    "plt.figure(figsize=(20,5))\n",
    "sns.countplot(y = 'a20',data=df)"
   ]
  },
  {
   "cell_type": "code",
   "execution_count": 69,
   "metadata": {},
   "outputs": [
    {
     "data": {
      "text/plain": [
       "2.0    27\n",
       "3.0    14\n",
       "4.0     6\n",
       "1.0     2\n",
       "Name: a20, dtype: int64"
      ]
     },
     "execution_count": 69,
     "metadata": {},
     "output_type": "execute_result"
    }
   ],
   "source": [
    "df['a20'].value_counts()"
   ]
  },
  {
   "cell_type": "code",
   "execution_count": 70,
   "metadata": {},
   "outputs": [
    {
     "name": "stdout",
     "output_type": "stream",
     "text": [
      "Correct Answer 50.943396226415096 %\n"
     ]
    }
   ],
   "source": [
    "print(\"Correct Answer\",27/53*100,\"%\")"
   ]
  },
  {
   "cell_type": "code",
   "execution_count": 71,
   "metadata": {
    "colab": {
     "base_uri": "https://localhost:8080/",
     "height": 290
    },
    "id": "4rYCnzgbl6eQ",
    "outputId": "a4d8cd07-5fef-4069-c71c-033b5ba9ccc5"
   },
   "outputs": [
    {
     "data": {
      "text/plain": [
       "<AxesSubplot:xlabel='count', ylabel='a21'>"
      ]
     },
     "execution_count": 71,
     "metadata": {},
     "output_type": "execute_result"
    },
    {
     "data": {
      "image/png": "[encoded data removed]",
      "text/plain": [
       "<Figure size 1440x360 with 1 Axes>"
      ]
     },
     "metadata": {
      "needs_background": "light"
     },
     "output_type": "display_data"
    }
   ],
   "source": [
    "plt.figure(figsize=(20,5))\n",
    "sns.countplot(y = 'a21',data=df)"
   ]
  },
  {
   "cell_type": "code",
   "execution_count": 72,
   "metadata": {},
   "outputs": [
    {
     "data": {
      "text/plain": [
       "2.0    25\n",
       "3.0    19\n",
       "4.0     4\n",
       "Name: a21, dtype: int64"
      ]
     },
     "execution_count": 72,
     "metadata": {},
     "output_type": "execute_result"
    }
   ],
   "source": [
    "df['a21'].value_counts()"
   ]
  },
  {
   "cell_type": "code",
   "execution_count": 73,
   "metadata": {},
   "outputs": [
    {
     "name": "stdout",
     "output_type": "stream",
     "text": [
      "Correct Answer 47.16981132075472 %\n"
     ]
    }
   ],
   "source": [
    "print(\"Correct Answer\",25/53*100,\"%\")"
   ]
  },
  {
   "cell_type": "code",
   "execution_count": 74,
   "metadata": {
    "colab": {
     "base_uri": "https://localhost:8080/",
     "height": 289
    },
    "id": "1FqH8efIl6r5",
    "outputId": "1cc26844-2590-40a6-ecfa-3402820aa9ba"
   },
   "outputs": [
    {
     "data": {
      "text/plain": [
       "<AxesSubplot:xlabel='count', ylabel='a22'>"
      ]
     },
     "execution_count": 74,
     "metadata": {},
     "output_type": "execute_result"
    },
    {
     "data": {
      "image/png": "[encoded data removed]",
      "text/plain": [
       "<Figure size 1440x360 with 1 Axes>"
      ]
     },
     "metadata": {
      "needs_background": "light"
     },
     "output_type": "display_data"
    }
   ],
   "source": [
    "plt.figure(figsize=(20,5))\n",
    "sns.countplot(y = 'a22',data=df)"
   ]
  },
  {
   "cell_type": "code",
   "execution_count": 75,
   "metadata": {},
   "outputs": [
    {
     "data": {
      "text/plain": [
       "16.0    20\n",
       "13.0    12\n",
       "15.0     8\n",
       "14.0     8\n",
       "Name: a22, dtype: int64"
      ]
     },
     "execution_count": 75,
     "metadata": {},
     "output_type": "execute_result"
    }
   ],
   "source": [
    "df['a22'].value_counts()"
   ]
  },
  {
   "cell_type": "code",
   "execution_count": 76,
   "metadata": {},
   "outputs": [
    {
     "name": "stdout",
     "output_type": "stream",
     "text": [
      "Correct Answer 37.735849056603776 %\n"
     ]
    }
   ],
   "source": [
    "print(\"Correct Answer\",20/53*100,\"%\")"
   ]
  },
  {
   "cell_type": "code",
   "execution_count": 77,
   "metadata": {
    "colab": {
     "base_uri": "https://localhost:8080/",
     "height": 290
    },
    "id": "8-cG1aLLl61C",
    "outputId": "41564fef-ffcf-428b-fe55-fabe675a48d1"
   },
   "outputs": [
    {
     "data": {
      "text/plain": [
       "<AxesSubplot:xlabel='count', ylabel='a23'>"
      ]
     },
     "execution_count": 77,
     "metadata": {},
     "output_type": "execute_result"
    },
    {
     "data": {
      "image/png": "[encoded data removed]",
      "text/plain": [
       "<Figure size 1440x360 with 1 Axes>"
      ]
     },
     "metadata": {
      "needs_background": "light"
     },
     "output_type": "display_data"
    }
   ],
   "source": [
    "plt.figure(figsize=(20,5))\n",
    "sns.countplot(y = 'a23',data=df)"
   ]
  },
  {
   "cell_type": "code",
   "execution_count": 78,
   "metadata": {},
   "outputs": [
    {
     "data": {
      "text/plain": [
       "3.0    31\n",
       "4.0     8\n",
       "2.0     6\n",
       "5.0     2\n",
       "Name: a23, dtype: int64"
      ]
     },
     "execution_count": 78,
     "metadata": {},
     "output_type": "execute_result"
    }
   ],
   "source": [
    "df['a23'].value_counts()"
   ]
  },
  {
   "cell_type": "code",
   "execution_count": 79,
   "metadata": {},
   "outputs": [
    {
     "name": "stdout",
     "output_type": "stream",
     "text": [
      "Correct Answer 58.490566037735846 %\n"
     ]
    }
   ],
   "source": [
    "print(\"Correct Answer\",31/53*100,\"%\")"
   ]
  },
  {
   "cell_type": "code",
   "execution_count": 80,
   "metadata": {
    "colab": {
     "base_uri": "https://localhost:8080/",
     "height": 275
    },
    "id": "K5K74NrVl69I",
    "outputId": "1509d591-235d-4222-85fd-53ad44377a40"
   },
   "outputs": [
    {
     "data": {
      "text/plain": [
       "<AxesSubplot:xlabel='count', ylabel='a24'>"
      ]
     },
     "execution_count": 80,
     "metadata": {},
     "output_type": "execute_result"
    },
    {
     "data": {
      "image/png": "[encoded data removed]",
      "text/plain": [
       "<Figure size 1440x360 with 1 Axes>"
      ]
     },
     "metadata": {
      "needs_background": "light"
     },
     "output_type": "display_data"
    }
   ],
   "source": [
    "plt.figure(figsize=(20,5))\n",
    "sns.countplot(y = 'a24',data=df)"
   ]
  },
  {
   "cell_type": "code",
   "execution_count": 81,
   "metadata": {},
   "outputs": [
    {
     "data": {
      "text/plain": [
       "Kingdom Animalia    43\n",
       "Kingdom Monera       2\n",
       "Kingdom Fungi        1\n",
       "Kingdom Plantae      1\n",
       "Name: a24, dtype: int64"
      ]
     },
     "execution_count": 81,
     "metadata": {},
     "output_type": "execute_result"
    }
   ],
   "source": [
    "df['a24'].value_counts()"
   ]
  },
  {
   "cell_type": "code",
   "execution_count": 82,
   "metadata": {},
   "outputs": [
    {
     "name": "stdout",
     "output_type": "stream",
     "text": [
      "Correct Answer 81.13207547169812 %\n"
     ]
    }
   ],
   "source": [
    "print(\"Correct Answer\",43/53*100,\"%\")"
   ]
  },
  {
   "cell_type": "code",
   "execution_count": 83,
   "metadata": {
    "colab": {
     "base_uri": "https://localhost:8080/",
     "height": 280
    },
    "id": "MAv0zyYGl7FB",
    "outputId": "222ab4a6-fc16-4140-aade-8b45b5156ac9"
   },
   "outputs": [
    {
     "data": {
      "text/plain": [
       "<AxesSubplot:xlabel='count', ylabel='a25'>"
      ]
     },
     "execution_count": 83,
     "metadata": {},
     "output_type": "execute_result"
    },
    {
     "data": {
      "image/png": "[encoded data removed]",
      "text/plain": [
       "<Figure size 1440x360 with 1 Axes>"
      ]
     },
     "metadata": {
      "needs_background": "light"
     },
     "output_type": "display_data"
    }
   ],
   "source": [
    "plt.figure(figsize=(20,5))\n",
    "sns.countplot(y = 'a25',data=df)"
   ]
  },
  {
   "cell_type": "code",
   "execution_count": 84,
   "metadata": {},
   "outputs": [
    {
     "data": {
      "text/plain": [
       "Duck           38\n",
       "Piggy Daddy     5\n",
       "Sport           2\n",
       "Flower          1\n",
       "Name: a25, dtype: int64"
      ]
     },
     "execution_count": 84,
     "metadata": {},
     "output_type": "execute_result"
    }
   ],
   "source": [
    "df['a25'].value_counts()"
   ]
  },
  {
   "cell_type": "code",
   "execution_count": 85,
   "metadata": {},
   "outputs": [
    {
     "name": "stdout",
     "output_type": "stream",
     "text": [
      "Correct Answer 71.69811320754717 %\n"
     ]
    }
   ],
   "source": [
    "print(\"Correct Answer\",38/53*100,\"%\")"
   ]
  },
  {
   "cell_type": "code",
   "execution_count": 86,
   "metadata": {
    "colab": {
     "base_uri": "https://localhost:8080/",
     "height": 288
    },
    "id": "WtCh-wtel7Mg",
    "outputId": "1557b073-f4ca-45f2-c849-d69a57a062e8"
   },
   "outputs": [
    {
     "data": {
      "text/plain": [
       "<AxesSubplot:xlabel='count', ylabel='a26'>"
      ]
     },
     "execution_count": 86,
     "metadata": {},
     "output_type": "execute_result"
    },
    {
     "data": {
      "image/png": "[encoded data removed]",
      "text/plain": [
       "<Figure size 1440x360 with 1 Axes>"
      ]
     },
     "metadata": {
      "needs_background": "light"
     },
     "output_type": "display_data"
    }
   ],
   "source": [
    "plt.figure(figsize=(20,5))\n",
    "sns.countplot(y = 'a26',data=df)"
   ]
  },
  {
   "cell_type": "code",
   "execution_count": 87,
   "metadata": {},
   "outputs": [
    {
     "data": {
      "text/plain": [
       "Pink      42\n",
       "Silver     3\n",
       "Violet     1\n",
       "Name: a26, dtype: int64"
      ]
     },
     "execution_count": 87,
     "metadata": {},
     "output_type": "execute_result"
    }
   ],
   "source": [
    "df['a26'].value_counts()"
   ]
  },
  {
   "cell_type": "code",
   "execution_count": 88,
   "metadata": {},
   "outputs": [
    {
     "name": "stdout",
     "output_type": "stream",
     "text": [
      "Correct Answer 79.24528301886792 %\n"
     ]
    }
   ],
   "source": [
    "print(\"Correct Answer\",42/53*100,\"%\")"
   ]
  },
  {
   "cell_type": "code",
   "execution_count": 89,
   "metadata": {
    "colab": {
     "base_uri": "https://localhost:8080/",
     "height": 283
    },
    "id": "dsa-S6ppl7UI",
    "outputId": "082cf775-d2bf-4708-ef8d-3867275da4cc"
   },
   "outputs": [
    {
     "data": {
      "text/plain": [
       "<AxesSubplot:xlabel='count', ylabel='a27'>"
      ]
     },
     "execution_count": 89,
     "metadata": {},
     "output_type": "execute_result"
    },
    {
     "data": {
      "image/png": "[encoded data removed]",
      "text/plain": [
       "<Figure size 1440x360 with 1 Axes>"
      ]
     },
     "metadata": {
      "needs_background": "light"
     },
     "output_type": "display_data"
    }
   ],
   "source": [
    "plt.figure(figsize=(20,5))\n",
    "sns.countplot(y = 'a27',data=df)"
   ]
  },
  {
   "cell_type": "code",
   "execution_count": 90,
   "metadata": {},
   "outputs": [
    {
     "data": {
      "text/plain": [
       "Hearts       40\n",
       "Circle        5\n",
       "Rectangle     1\n",
       "Name: a27, dtype: int64"
      ]
     },
     "execution_count": 90,
     "metadata": {},
     "output_type": "execute_result"
    }
   ],
   "source": [
    "df['a27'].value_counts()"
   ]
  },
  {
   "cell_type": "code",
   "execution_count": 91,
   "metadata": {},
   "outputs": [
    {
     "name": "stdout",
     "output_type": "stream",
     "text": [
      "Correct Answer 75.47169811320755 %\n"
     ]
    }
   ],
   "source": [
    "print(\"Correct Answer\",40/53*100,\"%\")"
   ]
  },
  {
   "cell_type": "code",
   "execution_count": 92,
   "metadata": {
    "colab": {
     "base_uri": "https://localhost:8080/",
     "height": 289
    },
    "id": "XXWfB7_9l7cQ",
    "outputId": "583b6621-ba9d-4654-8309-28e24483dd69"
   },
   "outputs": [
    {
     "data": {
      "text/plain": [
       "<AxesSubplot:xlabel='count', ylabel='a28'>"
      ]
     },
     "execution_count": 92,
     "metadata": {},
     "output_type": "execute_result"
    },
    {
     "data": {
      "image/png": "[encoded data removed]",
      "text/plain": [
       "<Figure size 1440x360 with 1 Axes>"
      ]
     },
     "metadata": {
      "needs_background": "light"
     },
     "output_type": "display_data"
    }
   ],
   "source": [
    "plt.figure(figsize=(20,5))\n",
    "sns.countplot(y = 'a28',data=df)"
   ]
  },
  {
   "cell_type": "code",
   "execution_count": 93,
   "metadata": {},
   "outputs": [
    {
     "data": {
      "text/plain": [
       "18.0    34\n",
       "19.0     7\n",
       "17.0     3\n",
       "20.0     2\n",
       "Name: a28, dtype: int64"
      ]
     },
     "execution_count": 93,
     "metadata": {},
     "output_type": "execute_result"
    }
   ],
   "source": [
    "df['a28'].value_counts()"
   ]
  },
  {
   "cell_type": "code",
   "execution_count": 94,
   "metadata": {},
   "outputs": [
    {
     "name": "stdout",
     "output_type": "stream",
     "text": [
      "Correct Answer 64.15094339622641 %\n"
     ]
    }
   ],
   "source": [
    "print(\"Correct Answer\",34/53*100,\"%\")"
   ]
  },
  {
   "cell_type": "code",
   "execution_count": 95,
   "metadata": {
    "colab": {
     "base_uri": "https://localhost:8080/",
     "height": 277
    },
    "id": "wTDgGgjwl7kf",
    "outputId": "3a6dc0f0-c57b-4534-e0dc-0868a9f0deec"
   },
   "outputs": [
    {
     "data": {
      "text/plain": [
       "<AxesSubplot:xlabel='count', ylabel='a29'>"
      ]
     },
     "execution_count": 95,
     "metadata": {},
     "output_type": "execute_result"
    },
    {
     "data": {
      "image/png": "[encoded data removed]",
      "text/plain": [
       "<Figure size 1440x360 with 1 Axes>"
      ]
     },
     "metadata": {
      "needs_background": "light"
     },
     "output_type": "display_data"
    }
   ],
   "source": [
    "plt.figure(figsize=(20,5))\n",
    "sns.countplot(y = 'a29',data=df)"
   ]
  },
  {
   "cell_type": "code",
   "execution_count": 96,
   "metadata": {},
   "outputs": [
    {
     "data": {
      "text/plain": [
       "Purple + orange    31\n",
       "Yellow + orange    10\n",
       "Blue + yellow       3\n",
       "Blue + Purple       2\n",
       "Name: a29, dtype: int64"
      ]
     },
     "execution_count": 96,
     "metadata": {},
     "output_type": "execute_result"
    }
   ],
   "source": [
    "df['a29'].value_counts()"
   ]
  },
  {
   "cell_type": "code",
   "execution_count": 97,
   "metadata": {},
   "outputs": [
    {
     "name": "stdout",
     "output_type": "stream",
     "text": [
      "Correct Answer 58.490566037735846 %\n"
     ]
    }
   ],
   "source": [
    "print(\"Correct Answer\",31/53*100,\"%\")"
   ]
  },
  {
   "cell_type": "code",
   "execution_count": 98,
   "metadata": {
    "colab": {
     "base_uri": "https://localhost:8080/",
     "height": 287
    },
    "id": "vQersVgPl7sX",
    "outputId": "dbaf281e-33a4-48f8-bd8d-4ccf3a625912"
   },
   "outputs": [
    {
     "data": {
      "text/plain": [
       "<AxesSubplot:xlabel='count', ylabel='a30'>"
      ]
     },
     "execution_count": 98,
     "metadata": {},
     "output_type": "execute_result"
    },
    {
     "data": {
      "image/png": "[encoded data removed]",
      "text/plain": [
       "<Figure size 1440x360 with 1 Axes>"
      ]
     },
     "metadata": {
      "needs_background": "light"
     },
     "output_type": "display_data"
    }
   ],
   "source": [
    "plt.figure(figsize=(20,5))\n",
    "sns.countplot(y = 'a30',data=df)"
   ]
  },
  {
   "cell_type": "code",
   "execution_count": 99,
   "metadata": {},
   "outputs": [
    {
     "data": {
      "text/plain": [
       "Green     24\n",
       "Pink      14\n",
       "Yellow     5\n",
       "Red        3\n",
       "Name: a30, dtype: int64"
      ]
     },
     "execution_count": 99,
     "metadata": {},
     "output_type": "execute_result"
    }
   ],
   "source": [
    "df['a30'].value_counts()"
   ]
  },
  {
   "cell_type": "code",
   "execution_count": 100,
   "metadata": {},
   "outputs": [
    {
     "name": "stdout",
     "output_type": "stream",
     "text": [
      "Correct Answer 45.28301886792453 %\n"
     ]
    }
   ],
   "source": [
    "print(\"Correct Answer\",24/53*100,\"%\")"
   ]
  },
  {
   "cell_type": "code",
   "execution_count": 101,
   "metadata": {
    "colab": {
     "base_uri": "https://localhost:8080/",
     "height": 283
    },
    "id": "sgBidzDQmbKC",
    "outputId": "a861aa44-c3e7-471b-e625-22cffc3545c9"
   },
   "outputs": [
    {
     "data": {
      "text/plain": [
       "<AxesSubplot:xlabel='count', ylabel='a31'>"
      ]
     },
     "execution_count": 101,
     "metadata": {},
     "output_type": "execute_result"
    },
    {
     "data": {
      "image/png": "[encoded data removed]",
      "text/plain": [
       "<Figure size 1440x360 with 1 Axes>"
      ]
     },
     "metadata": {
      "needs_background": "light"
     },
     "output_type": "display_data"
    }
   ],
   "source": [
    "plt.figure(figsize=(20,5))\n",
    "sns.countplot(y = 'a31',data=df)"
   ]
  },
  {
   "cell_type": "code",
   "execution_count": 102,
   "metadata": {},
   "outputs": [
    {
     "data": {
      "text/plain": [
       "R + B        32\n",
       "R + G + B     7\n",
       "G + B         6\n",
       "R + G         1\n",
       "Name: a31, dtype: int64"
      ]
     },
     "execution_count": 102,
     "metadata": {},
     "output_type": "execute_result"
    }
   ],
   "source": [
    "df['a31'].value_counts()"
   ]
  },
  {
   "cell_type": "code",
   "execution_count": 103,
   "metadata": {},
   "outputs": [
    {
     "name": "stdout",
     "output_type": "stream",
     "text": [
      "Correct Answer 60.37735849056604 %\n"
     ]
    }
   ],
   "source": [
    "print(\"Correct Answer\",32/53*100,\"%\")"
   ]
  },
  {
   "cell_type": "code",
   "execution_count": 104,
   "metadata": {
    "colab": {
     "base_uri": "https://localhost:8080/",
     "height": 287
    },
    "id": "C_PyIiOCmbSJ",
    "outputId": "895b16b8-aeae-4d95-8ed5-b7a9f317cea1"
   },
   "outputs": [
    {
     "data": {
      "text/plain": [
       "<AxesSubplot:xlabel='count', ylabel='a32'>"
      ]
     },
     "execution_count": 104,
     "metadata": {},
     "output_type": "execute_result"
    },
    {
     "data": {
      "image/png": "[encoded data removed]",
      "text/plain": [
       "<Figure size 1440x360 with 1 Axes>"
      ]
     },
     "metadata": {
      "needs_background": "light"
     },
     "output_type": "display_data"
    }
   ],
   "source": [
    "plt.figure(figsize=(20,5))\n",
    "sns.countplot(y = 'a32',data=df)"
   ]
  },
  {
   "cell_type": "code",
   "execution_count": 105,
   "metadata": {},
   "outputs": [
    {
     "data": {
      "text/plain": [
       "Black     38\n",
       "White      4\n",
       "Yellow     2\n",
       "Green      1\n",
       "Name: a32, dtype: int64"
      ]
     },
     "execution_count": 105,
     "metadata": {},
     "output_type": "execute_result"
    }
   ],
   "source": [
    "df['a32'].value_counts()"
   ]
  },
  {
   "cell_type": "code",
   "execution_count": 106,
   "metadata": {},
   "outputs": [
    {
     "name": "stdout",
     "output_type": "stream",
     "text": [
      "Correct Answer 71.69811320754717 %\n"
     ]
    }
   ],
   "source": [
    "print(\"Correct Answer\",38/53*100,\"%\")"
   ]
  },
  {
   "cell_type": "code",
   "execution_count": 107,
   "metadata": {
    "colab": {
     "base_uri": "https://localhost:8080/",
     "height": 289
    },
    "id": "DzUHLug6mbZa",
    "outputId": "6c29a8b2-b739-4a6e-b810-d264ae32af61"
   },
   "outputs": [
    {
     "data": {
      "text/plain": [
       "<AxesSubplot:xlabel='count', ylabel='a33'>"
      ]
     },
     "execution_count": 107,
     "metadata": {},
     "output_type": "execute_result"
    },
    {
     "data": {
      "image/png": "[encoded data removed]",
      "text/plain": [
       "<Figure size 1440x360 with 1 Axes>"
      ]
     },
     "metadata": {
      "needs_background": "light"
     },
     "output_type": "display_data"
    }
   ],
   "source": [
    "plt.figure(figsize=(20,5))\n",
    "sns.countplot(y = 'a33',data=df)"
   ]
  },
  {
   "cell_type": "code",
   "execution_count": 108,
   "metadata": {},
   "outputs": [
    {
     "data": {
      "text/plain": [
       "9.0     21\n",
       "8.0     10\n",
       "10.0     7\n",
       "7.0      7\n",
       "Name: a33, dtype: int64"
      ]
     },
     "execution_count": 108,
     "metadata": {},
     "output_type": "execute_result"
    }
   ],
   "source": [
    "df['a33'].value_counts()"
   ]
  },
  {
   "cell_type": "code",
   "execution_count": 109,
   "metadata": {},
   "outputs": [
    {
     "name": "stdout",
     "output_type": "stream",
     "text": [
      "Correct Answer 39.62264150943396 %\n"
     ]
    }
   ],
   "source": [
    "print(\"Correct Answer\",21/53*100,\"%\")"
   ]
  },
  {
   "cell_type": "code",
   "execution_count": 110,
   "metadata": {
    "colab": {
     "base_uri": "https://localhost:8080/",
     "height": 290
    },
    "id": "Rf6ohwtGmbg2",
    "outputId": "f68fd79e-5a75-4d80-959f-30af96fa0086"
   },
   "outputs": [
    {
     "data": {
      "text/plain": [
       "<AxesSubplot:xlabel='count', ylabel='a34'>"
      ]
     },
     "execution_count": 110,
     "metadata": {},
     "output_type": "execute_result"
    },
    {
     "data": {
      "image/png": "[encoded data removed]",
      "text/plain": [
       "<Figure size 1440x360 with 1 Axes>"
      ]
     },
     "metadata": {
      "needs_background": "light"
     },
     "output_type": "display_data"
    }
   ],
   "source": [
    "plt.figure(figsize=(20,5))\n",
    "sns.countplot(y = 'a34',data=df)"
   ]
  },
  {
   "cell_type": "code",
   "execution_count": 111,
   "metadata": {},
   "outputs": [
    {
     "data": {
      "text/plain": [
       "3.0    29\n",
       "2.0    14\n",
       "4.0     1\n",
       "1.0     1\n",
       "Name: a34, dtype: int64"
      ]
     },
     "execution_count": 111,
     "metadata": {},
     "output_type": "execute_result"
    }
   ],
   "source": [
    "df['a34'].value_counts()"
   ]
  },
  {
   "cell_type": "code",
   "execution_count": 112,
   "metadata": {},
   "outputs": [
    {
     "name": "stdout",
     "output_type": "stream",
     "text": [
      "Correct Answer 92.45283018867924 %\n"
     ]
    }
   ],
   "source": [
    "print(\"Correct Answer\",49/53*100,\"%\")"
   ]
  },
  {
   "cell_type": "code",
   "execution_count": 113,
   "metadata": {
    "colab": {
     "base_uri": "https://localhost:8080/",
     "height": 290
    },
    "id": "BfX0KNbKmbnR",
    "outputId": "978b7976-7eeb-4891-ba0f-568a500a4cec"
   },
   "outputs": [
    {
     "data": {
      "text/plain": [
       "<AxesSubplot:xlabel='count', ylabel='a35'>"
      ]
     },
     "execution_count": 113,
     "metadata": {},
     "output_type": "execute_result"
    },
    {
     "data": {
      "image/png": "[encoded data removed]",
      "text/plain": [
       "<Figure size 1440x360 with 1 Axes>"
      ]
     },
     "metadata": {
      "needs_background": "light"
     },
     "output_type": "display_data"
    }
   ],
   "source": [
    "plt.figure(figsize=(20,5))\n",
    "sns.countplot(y = 'a35',data=df)"
   ]
  },
  {
   "cell_type": "code",
   "execution_count": 114,
   "metadata": {},
   "outputs": [
    {
     "data": {
      "text/plain": [
       "6.0    28\n",
       "7.0    10\n",
       "5.0     7\n",
       "Name: a35, dtype: int64"
      ]
     },
     "execution_count": 114,
     "metadata": {},
     "output_type": "execute_result"
    }
   ],
   "source": [
    "df['a35'].value_counts()"
   ]
  },
  {
   "cell_type": "code",
   "execution_count": 115,
   "metadata": {},
   "outputs": [
    {
     "name": "stdout",
     "output_type": "stream",
     "text": [
      "Correct Answer 52.83018867924528 %\n"
     ]
    }
   ],
   "source": [
    "print(\"Correct Answer\",28/53*100,\"%\")"
   ]
  },
  {
   "cell_type": "code",
   "execution_count": 116,
   "metadata": {
    "colab": {
     "base_uri": "https://localhost:8080/",
     "height": 290
    },
    "id": "2rBCxNjfmbvg",
    "outputId": "c7073b84-6b0b-4a57-879d-fa1204af1b72"
   },
   "outputs": [
    {
     "data": {
      "text/plain": [
       "<AxesSubplot:xlabel='count', ylabel='a36'>"
      ]
     },
     "execution_count": 116,
     "metadata": {},
     "output_type": "execute_result"
    },
    {
     "data": {
      "image/png": "[encoded data removed]",
      "text/plain": [
       "<Figure size 1440x360 with 1 Axes>"
      ]
     },
     "metadata": {
      "needs_background": "light"
     },
     "output_type": "display_data"
    }
   ],
   "source": [
    "plt.figure(figsize=(20,5))\n",
    "sns.countplot(y = 'a36',data=df)"
   ]
  },
  {
   "cell_type": "code",
   "execution_count": 117,
   "metadata": {},
   "outputs": [
    {
     "data": {
      "text/plain": [
       "3.0    31\n",
       "2.0     9\n",
       "4.0     4\n",
       "1.0     1\n",
       "Name: a36, dtype: int64"
      ]
     },
     "execution_count": 117,
     "metadata": {},
     "output_type": "execute_result"
    }
   ],
   "source": [
    "df['a36'].value_counts()"
   ]
  },
  {
   "cell_type": "code",
   "execution_count": 118,
   "metadata": {},
   "outputs": [
    {
     "name": "stdout",
     "output_type": "stream",
     "text": [
      "Correct Answer 58.490566037735846 %\n"
     ]
    }
   ],
   "source": [
    "print(\"Correct Answer\",31/53*100,\"%\")"
   ]
  },
  {
   "cell_type": "code",
   "execution_count": 119,
   "metadata": {
    "colab": {
     "base_uri": "https://localhost:8080/",
     "height": 289
    },
    "id": "KU-hpfsVmb3B",
    "outputId": "14dda5c5-653f-4385-8f79-3910df928932"
   },
   "outputs": [
    {
     "data": {
      "text/plain": [
       "<AxesSubplot:xlabel='count', ylabel='a37'>"
      ]
     },
     "execution_count": 119,
     "metadata": {},
     "output_type": "execute_result"
    },
    {
     "data": {
      "image/png": "[encoded data removed]",
      "text/plain": [
       "<Figure size 1440x360 with 1 Axes>"
      ]
     },
     "metadata": {
      "needs_background": "light"
     },
     "output_type": "display_data"
    }
   ],
   "source": [
    "plt.figure(figsize=(20,5))\n",
    "sns.countplot(y = 'a37',data=df)"
   ]
  },
  {
   "cell_type": "code",
   "execution_count": 120,
   "metadata": {},
   "outputs": [
    {
     "data": {
      "text/plain": [
       "16.0    40\n",
       "7.0      4\n",
       "9.0      1\n",
       "Name: a37, dtype: int64"
      ]
     },
     "execution_count": 120,
     "metadata": {},
     "output_type": "execute_result"
    }
   ],
   "source": [
    "df['a37'].value_counts()"
   ]
  },
  {
   "cell_type": "code",
   "execution_count": 121,
   "metadata": {},
   "outputs": [
    {
     "name": "stdout",
     "output_type": "stream",
     "text": [
      "Correct Answer 75.47169811320755 %\n"
     ]
    }
   ],
   "source": [
    "print(\"Correct Answer\",40/53*100,\"%\")"
   ]
  },
  {
   "cell_type": "code",
   "execution_count": 122,
   "metadata": {
    "colab": {
     "base_uri": "https://localhost:8080/",
     "height": 290
    },
    "id": "KNnKHKu3mb_Q",
    "outputId": "2aba16e4-8ef5-458b-ce54-0818cbf40acb"
   },
   "outputs": [
    {
     "data": {
      "text/plain": [
       "<AxesSubplot:xlabel='count', ylabel='a38'>"
      ]
     },
     "execution_count": 122,
     "metadata": {},
     "output_type": "execute_result"
    },
    {
     "data": {
      "image/png": "[encoded data removed]",
      "text/plain": [
       "<Figure size 1440x360 with 1 Axes>"
      ]
     },
     "metadata": {
      "needs_background": "light"
     },
     "output_type": "display_data"
    }
   ],
   "source": [
    "plt.figure(figsize=(20,5))\n",
    "sns.countplot(y = 'a38',data=df)"
   ]
  },
  {
   "cell_type": "code",
   "execution_count": 123,
   "metadata": {},
   "outputs": [
    {
     "data": {
      "text/plain": [
       "2-B    41\n",
       "3-C     3\n",
       "4-A     1\n",
       "Name: a38, dtype: int64"
      ]
     },
     "execution_count": 123,
     "metadata": {},
     "output_type": "execute_result"
    }
   ],
   "source": [
    "df['a38'].value_counts()"
   ]
  },
  {
   "cell_type": "code",
   "execution_count": 124,
   "metadata": {},
   "outputs": [
    {
     "name": "stdout",
     "output_type": "stream",
     "text": [
      "Correct Answer 77.35849056603774 %\n"
     ]
    }
   ],
   "source": [
    "print(\"Correct Answer\",41/53*100,\"%\")"
   ]
  },
  {
   "cell_type": "code",
   "execution_count": 125,
   "metadata": {
    "colab": {
     "base_uri": "https://localhost:8080/",
     "height": 290
    },
    "id": "ZO7t8kKLmcIA",
    "outputId": "9a959c14-a274-4b8c-e3ed-e1f6f6394639"
   },
   "outputs": [
    {
     "data": {
      "text/plain": [
       "<AxesSubplot:xlabel='count', ylabel='a39'>"
      ]
     },
     "execution_count": 125,
     "metadata": {},
     "output_type": "execute_result"
    },
    {
     "data": {
      "image/png": "[encoded data removed]",
      "text/plain": [
       "<Figure size 1440x360 with 1 Axes>"
      ]
     },
     "metadata": {
      "needs_background": "light"
     },
     "output_type": "display_data"
    }
   ],
   "source": [
    "plt.figure(figsize=(20,5))\n",
    "sns.countplot(y = 'a39',data=df)"
   ]
  },
  {
   "cell_type": "code",
   "execution_count": 126,
   "metadata": {},
   "outputs": [
    {
     "data": {
      "text/plain": [
       "6.0    32\n",
       "5.0     8\n",
       "7.0     4\n",
       "4.0     1\n",
       "Name: a39, dtype: int64"
      ]
     },
     "execution_count": 126,
     "metadata": {},
     "output_type": "execute_result"
    }
   ],
   "source": [
    "df['a39'].value_counts()"
   ]
  },
  {
   "cell_type": "code",
   "execution_count": 127,
   "metadata": {},
   "outputs": [
    {
     "name": "stdout",
     "output_type": "stream",
     "text": [
      "Correct Answer 60.37735849056604 %\n"
     ]
    }
   ],
   "source": [
    "print(\"Correct Answer\",32/53*100,\"%\")"
   ]
  },
  {
   "cell_type": "code",
   "execution_count": 128,
   "metadata": {
    "colab": {
     "base_uri": "https://localhost:8080/",
     "height": 371
    },
    "id": "naXy3eYwmcb5",
    "outputId": "40b91772-f09c-4ba0-862c-5b217e69676f"
   },
   "outputs": [
    {
     "data": {
      "text/plain": [
       "<AxesSubplot:xlabel='count', ylabel='a40'>"
      ]
     },
     "execution_count": 128,
     "metadata": {},
     "output_type": "execute_result"
    },
    {
     "data": {
      "image/png": "[encoded data removed]",
      "text/plain": [
       "<Figure size 1440x360 with 1 Axes>"
      ]
     },
     "metadata": {
      "needs_background": "light"
     },
     "output_type": "display_data"
    }
   ],
   "source": [
    "plt.figure(figsize=(20,5))\n",
    "sns.countplot(y = 'a40',data=df)"
   ]
  },
  {
   "cell_type": "code",
   "execution_count": 129,
   "metadata": {},
   "outputs": [
    {
     "data": {
      "text/plain": [
       "3.0    35\n",
       "2.0     5\n",
       "5.0     4\n",
       "4.0     1\n",
       "Name: a40, dtype: int64"
      ]
     },
     "execution_count": 129,
     "metadata": {},
     "output_type": "execute_result"
    }
   ],
   "source": [
    "df['a40'].value_counts()"
   ]
  },
  {
   "cell_type": "code",
   "execution_count": 130,
   "metadata": {},
   "outputs": [
    {
     "name": "stdout",
     "output_type": "stream",
     "text": [
      "Correct Answer 66.0377358490566 %\n"
     ]
    }
   ],
   "source": [
    "print(\"Correct Answer\",35/53*100,\"%\")"
   ]
  },
  {
   "cell_type": "code",
   "execution_count": 131,
   "metadata": {
    "id": "8693bfA_uO3A"
   },
   "outputs": [],
   "source": [
    "#((df.describe())/1000).to_csv('abc.csv')"
   ]
  },
  {
   "cell_type": "code",
   "execution_count": 132,
   "metadata": {
    "colab": {
     "base_uri": "https://localhost:8080/",
     "height": 195
    },
    "id": "ynlG8MynkqDW",
    "outputId": "6ae59763-4025-40c0-ab32-553de78d725f"
   },
   "outputs": [
    {
     "data": {
      "text/html": [
       "<div>\n",
       "<style scoped>\n",
       "    .dataframe tbody tr th:only-of-type {\n",
       "        vertical-align: middle;\n",
       "    }\n",
       "\n",
       "    .dataframe tbody tr th {\n",
       "        vertical-align: top;\n",
       "    }\n",
       "\n",
       "    .dataframe thead th {\n",
       "        text-align: right;\n",
       "    }\n",
       "</style>\n",
       "<table border=\"1\" class=\"dataframe\">\n",
       "  <thead>\n",
       "    <tr style=\"text-align: right;\">\n",
       "      <th></th>\n",
       "      <th>ques</th>\n",
       "      <th>count</th>\n",
       "      <th>mean</th>\n",
       "      <th>std</th>\n",
       "      <th>min</th>\n",
       "      <th>25%</th>\n",
       "      <th>50%</th>\n",
       "      <th>75%</th>\n",
       "      <th>max</th>\n",
       "    </tr>\n",
       "  </thead>\n",
       "  <tbody>\n",
       "    <tr>\n",
       "      <th>0</th>\n",
       "      <td>1</td>\n",
       "      <td>0.053</td>\n",
       "      <td>16.968585</td>\n",
       "      <td>26.884521</td>\n",
       "      <td>2.615</td>\n",
       "      <td>4.325</td>\n",
       "      <td>5.953</td>\n",
       "      <td>16.968</td>\n",
       "      <td>147.491</td>\n",
       "    </tr>\n",
       "    <tr>\n",
       "      <th>1</th>\n",
       "      <td>2</td>\n",
       "      <td>0.053</td>\n",
       "      <td>8.597396</td>\n",
       "      <td>12.834328</td>\n",
       "      <td>1.868</td>\n",
       "      <td>3.598</td>\n",
       "      <td>5.180</td>\n",
       "      <td>7.218</td>\n",
       "      <td>84.810</td>\n",
       "    </tr>\n",
       "    <tr>\n",
       "      <th>2</th>\n",
       "      <td>3</td>\n",
       "      <td>0.053</td>\n",
       "      <td>9.470170</td>\n",
       "      <td>15.709553</td>\n",
       "      <td>1.521</td>\n",
       "      <td>3.178</td>\n",
       "      <td>4.391</td>\n",
       "      <td>9.081</td>\n",
       "      <td>90.528</td>\n",
       "    </tr>\n",
       "    <tr>\n",
       "      <th>3</th>\n",
       "      <td>4</td>\n",
       "      <td>0.053</td>\n",
       "      <td>10.104358</td>\n",
       "      <td>17.978789</td>\n",
       "      <td>1.625</td>\n",
       "      <td>2.977</td>\n",
       "      <td>4.934</td>\n",
       "      <td>10.120</td>\n",
       "      <td>123.112</td>\n",
       "    </tr>\n",
       "    <tr>\n",
       "      <th>4</th>\n",
       "      <td>5</td>\n",
       "      <td>0.053</td>\n",
       "      <td>19.537491</td>\n",
       "      <td>22.240063</td>\n",
       "      <td>1.569</td>\n",
       "      <td>3.535</td>\n",
       "      <td>8.592</td>\n",
       "      <td>27.638</td>\n",
       "      <td>72.205</td>\n",
       "    </tr>\n",
       "  </tbody>\n",
       "</table>\n",
       "</div>"
      ],
      "text/plain": [
       "  ques  count       mean        std    min    25%    50%     75%      max\n",
       "0    1  0.053  16.968585  26.884521  2.615  4.325  5.953  16.968  147.491\n",
       "1    2  0.053   8.597396  12.834328  1.868  3.598  5.180   7.218   84.810\n",
       "2    3  0.053   9.470170  15.709553  1.521  3.178  4.391   9.081   90.528\n",
       "3    4  0.053  10.104358  17.978789  1.625  2.977  4.934  10.120  123.112\n",
       "4    5  0.053  19.537491  22.240063  1.569  3.535  8.592  27.638   72.205"
      ]
     },
     "execution_count": 132,
     "metadata": {},
     "output_type": "execute_result"
    }
   ],
   "source": [
    "ef=pd.read_csv('abc.csv')\n",
    "ef.head()"
   ]
  },
  {
   "cell_type": "code",
   "execution_count": 133,
   "metadata": {
    "colab": {
     "base_uri": "https://localhost:8080/",
     "height": 319
    },
    "id": "ea_mVQT2wjfc",
    "outputId": "933e3bf9-35eb-456f-c239-5b4f49bb14c2"
   },
   "outputs": [
    {
     "data": {
      "text/plain": [
       "<AxesSubplot:xlabel='ques', ylabel='mean'>"
      ]
     },
     "execution_count": 133,
     "metadata": {},
     "output_type": "execute_result"
    },
    {
     "data": {
      "image/png": "[encoded data removed]",
      "text/plain": [
       "<Figure size 1800x432 with 1 Axes>"
      ]
     },
     "metadata": {
      "needs_background": "light"
     },
     "output_type": "display_data"
    }
   ],
   "source": [
    "plt.figure(figsize=(25,6))\n",
    "sns.lineplot(x='ques',y = 'mean',data=ef)"
   ]
  },
  {
   "cell_type": "code",
   "execution_count": 134,
   "metadata": {
    "colab": {
     "base_uri": "https://localhost:8080/",
     "height": 320
    },
    "id": "hiEn5Y822-PH",
    "outputId": "8e03bd25-d461-4e41-cb4b-72d4fdcd4991"
   },
   "outputs": [
    {
     "data": {
      "text/plain": [
       "<AxesSubplot:xlabel='ques', ylabel='min'>"
      ]
     },
     "execution_count": 134,
     "metadata": {},
     "output_type": "execute_result"
    },
    {
     "data": {
      "image/png": "[encoded data removed]",
      "text/plain": [
       "<Figure size 1800x432 with 1 Axes>"
      ]
     },
     "metadata": {
      "needs_background": "light"
     },
     "output_type": "display_data"
    }
   ],
   "source": [
    "plt.figure(figsize=(25,6))\n",
    "sns.lineplot(x='ques',y = 'min',data=ef)"
   ]
  },
  {
   "cell_type": "code",
   "execution_count": 135,
   "metadata": {
    "colab": {
     "base_uri": "https://localhost:8080/",
     "height": 318
    },
    "id": "fpHigfCm3EPr",
    "outputId": "1fe5640e-579e-4e75-e177-a74145acbecd"
   },
   "outputs": [
    {
     "data": {
      "text/plain": [
       "<AxesSubplot:xlabel='ques', ylabel='max'>"
      ]
     },
     "execution_count": 135,
     "metadata": {},
     "output_type": "execute_result"
    },
    {
     "data": {
      "image/png": "[encoded data removed]",
      "text/plain": [
       "<Figure size 1800x432 with 1 Axes>"
      ]
     },
     "metadata": {
      "needs_background": "light"
     },
     "output_type": "display_data"
    }
   ],
   "source": [
    "plt.figure(figsize=(25,6))\n",
    "sns.lineplot(x='ques',y = 'max',data=ef)"
   ]
  },
  {
   "cell_type": "code",
   "execution_count": 144,
   "metadata": {},
   "outputs": [
    {
     "data": {
      "text/plain": [
       "name                                                       0\n",
       "age                                                        0\n",
       "at1                                                        0\n",
       "at2                                                        0\n",
       "at3                                                        0\n",
       "at4                                                        0\n",
       "at5                                                        0\n",
       "at6                                                        0\n",
       "at7                                                        0\n",
       "at8                                                        0\n",
       "at9                                                        0\n",
       "at10                                                       0\n",
       "a11                                                        0\n",
       "at11                                                       0\n",
       "a12                                                        0\n",
       "at12                                                       0\n",
       "a13                                                        0\n",
       "at13                                                       0\n",
       "at14                                                       0\n",
       "at15                                                       2\n",
       "at16                                                       2\n",
       "a17                                                        2\n",
       "at17                                                       2\n",
       "a18                                                        2\n",
       "at18                                                       2\n",
       "a19                                                        2\n",
       "at19                                                       2\n",
       "a20                                                        4\n",
       "at20                                                       4\n",
       "a21                                                        5\n",
       "at21                                                       5\n",
       "a22                                                        5\n",
       "at22                                                       5\n",
       "a23                                                        6\n",
       "at23                                                       6\n",
       "at24                                                       6\n",
       "at25                                                       7\n",
       "at26                                                       7\n",
       "at27                                                       7\n",
       "a28                                                        7\n",
       "at28                                                       7\n",
       "at29                                                       7\n",
       "at30                                                       7\n",
       "at31                                                       7\n",
       "at32                                                       8\n",
       "a33                                                        8\n",
       "at33                                                       8\n",
       "a34                                                        8\n",
       "at34                                                       8\n",
       "a35                                                        8\n",
       "at35                                                       8\n",
       "a36                                                        8\n",
       "at36                                                       8\n",
       "a37                                                        8\n",
       "at37                                                       8\n",
       "at38                                                       8\n",
       "a39                                                        8\n",
       "at39                                                       8\n",
       "a40                                                        8\n",
       "at40                                                       8\n",
       "total time                                                 8\n",
       "sex_Female                                                 0\n",
       "sex_Male                                                   0\n",
       "a1_Acceppted                                               0\n",
       "a1_Accepted                                                0\n",
       "a1_Acepted                                                 0\n",
       "a1_Axcepted                                                0\n",
       "a2_plain                                                   0\n",
       "a2_plane                                                   0\n",
       "a2_plian                                                   0\n",
       "a3_ Playground                                             0\n",
       "a3_Art room                                                0\n",
       "a3_Computer room                                           0\n",
       "a4_Almanac                                                 0\n",
       "a4_Atlas                                                   0\n",
       "a4_Dictionary                                              0\n",
       "a4_Geographic dictionary                                   0\n",
       "a5_I am having  greet day! can you type this for me ?      0\n",
       "a5_I am having a great day! can you type this for me ?     0\n",
       "a5_I am having a great day!. can you type this for me ?    0\n",
       "a5_I am having a great day| can you type this for me ?     0\n",
       "a6_Fifth                                                   0\n",
       "a6_Five                                                    0\n",
       "a6_Fiveth                                                  0\n",
       "a6_fifvth                                                  0\n",
       "a7_Breakfast                                               0\n",
       "a7_Breakfost                                               0\n",
       "a8_Dcotor                                                  0\n",
       "a8_Docter                                                  0\n",
       "a8_Doctor                                                  0\n",
       "a9_Black                                                   0\n",
       "a9_Dark                                                    0\n",
       "a9_Darker                                                  0\n",
       "a9_Darkest                                                 0\n",
       "a10_English                                                0\n",
       "a10_Hindi                                                  0\n",
       "a14_Sommer                                                 0\n",
       "a14_Sumer                                                  0\n",
       "a14_Summer                                                 0\n",
       "a14_Summmer                                                0\n",
       "a15_34M7M5MM                                               0\n",
       "a15_34M7MM5M                                               0\n",
       "a15_34M7W5MM                                               0\n",
       "a16_WWMWMWMM                                               0\n",
       "a16_WWMWMWMW                                               0\n",
       "a16_WWMWMWWM                                               0\n",
       "a24_Kingdom Animalia                                       0\n",
       "a24_Kingdom Fungi                                          0\n",
       "a24_Kingdom Monera                                         0\n",
       "a24_Kingdom Plantae                                        0\n",
       "a25_Duck                                                   0\n",
       "a25_Flower                                                 0\n",
       "a25_Piggy Daddy                                            0\n",
       "a25_Sport                                                  0\n",
       "a26_Pink                                                   0\n",
       "a26_Silver                                                 0\n",
       "a26_Violet                                                 0\n",
       "a27_Circle                                                 0\n",
       "a27_Hearts                                                 0\n",
       "a27_Rectangle                                              0\n",
       "a29_Blue + Purple                                          0\n",
       "a29_Blue + yellow                                          0\n",
       "a29_Purple + orange                                        0\n",
       "a29_Yellow + orange                                        0\n",
       "a30_Green                                                  0\n",
       "a30_Pink                                                   0\n",
       "a30_Red                                                    0\n",
       "a30_Yellow                                                 0\n",
       "a31_G + B                                                  0\n",
       "a31_R + B                                                  0\n",
       "a31_R + G                                                  0\n",
       "a31_R + G + B                                              0\n",
       "a32_Black                                                  0\n",
       "a32_Green                                                  0\n",
       "a32_White                                                  0\n",
       "a32_Yellow                                                 0\n",
       "a38_2-B                                                    0\n",
       "a38_3-C                                                    0\n",
       "a38_4-A                                                    0\n",
       "dtype: int64"
      ]
     },
     "execution_count": 144,
     "metadata": {},
     "output_type": "execute_result"
    }
   ],
   "source": [
    "df.isnull().sum()"
   ]
  },
  {
   "cell_type": "code",
   "execution_count": 137,
   "metadata": {
    "id": "gYIG8-fh7C9V"
   },
   "outputs": [
    {
     "name": "stdout",
     "output_type": "stream",
     "text": [
      "Students who left quiz in between 15.09433962264151 %\n",
      "Min time taken by student before leaving quiz: 79.043 Sec\n",
      "Max time taken by student before leaving quiz: 196.383 Sec\n"
     ]
    }
   ],
   "source": [
    "print(\"Students who left quiz in between\",8/53*100,\"%\")\n",
    "print(\"Min time taken by student before leaving quiz:\",79.043,\"Sec\")\n",
    "print(\"Max time taken by student before leaving quiz:\",196.383,\"Sec\")"
   ]
  },
  {
   "cell_type": "markdown",
   "metadata": {},
   "source": [
    "## Encoding and saving the file"
   ]
  },
  {
   "cell_type": "code",
   "execution_count": 138,
   "metadata": {},
   "outputs": [],
   "source": [
    "#df = pd.get_dummies(df, columns=['sex', 'a1','a2','a3','a4','a5','a6','a7','a8','a9','a10','a14','a15','a16','a24','a25','a26','a27','a29','a30','a31','a32','a38'])"
   ]
  },
  {
   "cell_type": "code",
   "execution_count": 141,
   "metadata": {},
   "outputs": [],
   "source": [
    "#df.to_csv('Data_Encoded.csv')"
   ]
  }
 ],
 "metadata": {
  "colab": {
   "collapsed_sections": [],
   "name": "ESDDML.ipynb",
   "provenance": [],
   "toc_visible": true
  },
  "kernelspec": {
   "display_name": "Python 3",
   "language": "python",
   "name": "python3"
  },
  "language_info": {
   "codemirror_mode": {
    "name": "ipython",
    "version": 3
   },
   "file_extension": ".py",
   "mimetype": "text/x-python",
   "name": "python",
   "nbconvert_exporter": "python",
   "pygments_lexer": "ipython3",
   "version": "3.8.5"
  }
 },
 "nbformat": 4,
 "nbformat_minor": 4
}
